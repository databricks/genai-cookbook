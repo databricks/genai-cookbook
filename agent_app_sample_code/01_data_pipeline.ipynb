{
 "cells": [
  {
   "cell_type": "markdown",
   "metadata": {
    "application/vnd.databricks.v1+cell": {
     "cellMetadata": {},
     "inputWidgets": {},
     "nuid": "7c756f50-2063-4a07-b964-e5d6de29abb4",
     "showTitle": false,
     "tableResultSettingsMap": {},
     "title": ""
    }
   },
   "source": [
    "# Unstructured data pipeline for the Agent's Retriever\n",
    "\n",
    "By the end of this notebook, you will have transformed your unstructured documents into a vector index that can be queried by your Agent.\n",
    "\n",
    "This means:\n",
    "- Documents loaded into a delta table.\n",
    "- Documents are chunked.\n",
    "- Chunks have been embedded with an embedding model and stored in a vector index.\n",
    "\n",
    "The important resulting artifact of this notebook is the chunked vector index. This will be used in the next notebook to power our Retriever."
   ]
  },
  {
   "cell_type": "markdown",
   "metadata": {
    "application/vnd.databricks.v1+cell": {
     "cellMetadata": {},
     "inputWidgets": {},
     "nuid": "d3777205-4dfe-418c-9d21-c67961a18070",
     "showTitle": false,
     "tableResultSettingsMap": {},
     "title": ""
    }
   },
   "source": [
    "### 👉 START HERE: How to Use This Notebook\n",
    "\n",
    "Follow these steps to build and refine your data pipeline's quality:\n",
    "\n",
    "1. **Build a v0 index with default settings**\n",
    "    - Configure the data source and destination tables in the `1️⃣ 📂 Data source & destination configuration` cells\n",
    "    - Press `Run All` to create the vector index.\n",
    "\n",
    "    *Note: While you can adjust the other settings and modify the parsing/chunking code, we suggest doing so only after evaluating your Agent's quality so you can make improvements that specifically address root causes of quality issues.*\n",
    "\n",
    "2. **Use later notebooks to integrate the retriever into an the agent and evaluate the agent/retriever's quality.**\n",
    "\n",
    "3. **If the evaluation results show retrieval issues as a root cause, use this notebook to iterate on your data pipeline's code & config.** Below are some potential fixes you can try, see the AI Cookbook's [debugging retrieval issues](https://ai-cookbook.io/nbs/5-hands-on-improve-quality-step-1-retrieval.html) section for details.**\n",
    "    - Add missing, but relevant source documents into in the index.\n",
    "    - Resolve any conflicting information in source documents.\n",
    "    - Adjust the data pipeline configuration:\n",
    "      - Modify chunk size or overlap.\n",
    "      - Experiment with different embedding models.\n",
    "    - Adjust the data pipeline code:\n",
    "      - Create a custom parser or use different parsing libraries.\n",
    "      - Develop a custom chunker or use different chunking techniques.\n",
    "      - Extract additional metadata for each document.\n",
    "    - Adjust the Agent's code/config in subsequent notebooks:\n",
    "      - Change the number of documents retrieved (K).\n",
    "      - Try a re-ranker.\n",
    "      - Use hybrid search.\n",
    "      - Apply extracted metadata as filters.\n",
    "\n"
   ]
  },
  {
   "cell_type": "markdown",
   "metadata": {
    "application/vnd.databricks.v1+cell": {
     "cellMetadata": {},
     "inputWidgets": {},
     "nuid": "1a6053b9-3135-4097-9ed0-64bdb03a6b9f",
     "showTitle": false,
     "tableResultSettingsMap": {},
     "title": ""
    }
   },
   "source": [
    "**Important note:** Throughout this notebook, we indicate which cells you:\n",
    "- ✅✏️ *should* customize - these cells contain code & config with business logic that you should edit to meet your requirements & tune quality\n",
    "- 🚫✏️ *typically will not* customize - these cells contain boilerplate code required to execute the pipeline\n",
    "\n",
    "*Cells that don't require customization still need to be run!  You CAN change these cells, but if this is the first time using this notebook, we suggest not doing so.*"
   ]
  },
  {
   "cell_type": "markdown",
   "metadata": {
    "application/vnd.databricks.v1+cell": {
     "cellMetadata": {},
     "inputWidgets": {},
     "nuid": "16b35cfd-7c99-4419-8978-33939faf24a6",
     "showTitle": false,
     "tableResultSettingsMap": {},
     "title": ""
    }
   },
   "source": [
    "### Install Python libraries\n",
    "\n",
    "🚫✏️ Only modify if you need additional packages in your code changes to the document parsing or chunking logic.\n",
    "\n",
    "Versions of Databricks code are not locked since Databricks ensures changes are backwards compatible.\n",
    "Versions of open source packages are locked since package authors often make backwards compatible changes"
   ]
  },
  {
   "cell_type": "code",
   "execution_count": null,
   "metadata": {
    "application/vnd.databricks.v1+cell": {
     "cellMetadata": {
      "byteLimit": 2048000,
      "rowLimit": 10000
     },
     "inputWidgets": {},
     "nuid": "6b4eebb3-448a-4236-99fb-19e44858e3c6",
     "showTitle": false,
     "tableResultSettingsMap": {},
     "title": ""
    }
   },
   "outputs": [],
   "source": [
    "%pip install -qqqq -U -r requirements.txt\n",
    "%pip install -qqqq -U -r requirements_datapipeline.txt\n",
    "dbutils.library.restartPython()"
   ]
  },
  {
   "cell_type": "markdown",
   "metadata": {},
   "source": [
    "If running from an IDE with [`databricks-connect`](https://docs.databricks.com/en/dev-tools/databricks-connect/python/index.html), connect to a Spark session."
   ]
  },
  {
   "cell_type": "code",
   "execution_count": null,
   "metadata": {},
   "outputs": [],
   "source": [
    "from utils.cookbook.databricks_utils import get_active_cluster_id, get_cluster_url\n",
    "from utils.cookbook.install_cluster_library import install_requirements\n",
    "# cluster_id = get_active_cluster_id()\n",
    "# print(f\"Installing packages on the active cluster: {get_cluster_url(cluster_id)}\")\n",
    "\n",
    "# # TODO: build the utils wheel and install it \n",
    "# install_requirements(cluster_id, \"requirements.txt\")\n",
    "# install_requirements(cluster_id, \"requirements_datapipeline.txt\")\n",
    "\n",
    "# Get Spark session if using Databricks Connect from an IDE\n",
    "from mlflow.utils import databricks_utils as du\n",
    "\n",
    "if not du.is_in_databricks_notebook():\n",
    "    from databricks.connect import DatabricksSession\n",
    "\n",
    "    spark = DatabricksSession.builder.getOrCreate()"
   ]
  },
  {
   "cell_type": "markdown",
   "metadata": {
    "application/vnd.databricks.v1+cell": {
     "cellMetadata": {},
     "inputWidgets": {},
     "nuid": "7a27dc10-44ae-4489-bc75-0d61c89b4268",
     "showTitle": false,
     "tableResultSettingsMap": {},
     "title": ""
    }
   },
   "source": [
    "\n",
    "## 1️⃣ 📂 Data source & destination configuration"
   ]
  },
  {
   "cell_type": "markdown",
   "metadata": {
    "application/vnd.databricks.v1+cell": {
     "cellMetadata": {},
     "inputWidgets": {},
     "nuid": "cf8bd6ab-827e-4ba6-805f-091349906ef6",
     "showTitle": false,
     "tableResultSettingsMap": {},
     "title": ""
    }
   },
   "source": [
    "#### ✅✏️ Configure the data pipeline's source location.\n",
    "\n",
    "Choose a [Unity Catalog Volume](https://docs.databricks.com/en/volumes/index.html) containing PDF, HTML, etc documents to be parsed/chunked/embedded.\n",
    "\n",
    "- `uc_catalog_name`: Name of the Unity Catalog.\n",
    "- `uc_schema_name`: Name of the Unity Catalog schema.\n",
    "- `uc_volume_name`: Name of the Unity Catalog volume.\n",
    "\n",
    "Running this cell with validate that the UC Volume exists, trying to create it if not.\n"
   ]
  },
  {
   "cell_type": "code",
   "execution_count": null,
   "metadata": {
    "application/vnd.databricks.v1+cell": {
     "cellMetadata": {},
     "inputWidgets": {},
     "nuid": "59b3efc5-0591-4a44-b88d-184003cabfb6",
     "showTitle": false,
     "tableResultSettingsMap": {},
     "title": ""
    }
   },
   "outputs": [],
   "source": [
    "from utils.data_pipeline.data_pipeline_config import UCVolumeSourceConfig\n",
    "\n",
    "# Configure the UC Volume that contains the source documents\n",
    "source_config = UCVolumeSourceConfig(\n",
    "    uc_catalog_name=\"REPLACE_ME\", # REPLACE_ME\n",
    "    uc_schema_name=\"REPLACE_ME\", # REPLACE_ME\n",
    "    uc_volume_name=f\"REPLACE_ME\", # REPLACE_ME\n",
    ")\n",
    "\n",
    "# Check if volume exists, create otherwise\n",
    "is_valid, msg = source_config.create_or_validate_volume()\n",
    "if not is_valid:\n",
    "    raise Exception(msg)"
   ]
  },
  {
   "cell_type": "markdown",
   "metadata": {
    "application/vnd.databricks.v1+cell": {
     "cellMetadata": {},
     "inputWidgets": {},
     "nuid": "083e203f-e468-4ce7-b645-31507a36c86b",
     "showTitle": false,
     "tableResultSettingsMap": {},
     "title": ""
    }
   },
   "source": [
    "#### ✅✏️ Configure the data pipeline's output location.\n",
    " \n",
    "Choose where the data pipeline outputs the parsed, chunked, and embedded documents.\n",
    "\n",
    "Required parameters:\n",
    "* `uc_catalog_name`: Unity Catalog name where tables will be created\n",
    "* `uc_schema_name`: Schema name within the catalog \n",
    "* `base_table_name`: Core name used as prefix for all generated tables\n",
    "* `vector_search_endpoint`: Vector Search endpoint to store the index\n",
    "\n",
    "Optional parameters:\n",
    "* `docs_table_postfix`: Suffix for the parsed documents table (default: \"docs\")\n",
    "* `chunked_table_postfix`: Suffix for the chunked documents table (default: \"docs_chunked\") \n",
    "* `vector_index_postfix`: Suffix for the vector index (default: \"docs_chunked_index\")\n",
    "* `version_suffix`: Version identifier (e.g. 'v1', 'test') to maintain multiple versions\n",
    "\n",
    "The generated tables follow this naming convention:\n",
    "* Parsed docs: {uc_catalog_name}.{uc_schema_name}.{base_table_name}_{docs_table_postfix}__{version_suffix}\n",
    "* Chunked docs: {uc_catalog_name}.{uc_schema_name}.{base_table_name}_{chunked_table_postfix}__{version_suffix}\n",
    "* Vector index: {uc_catalog_name}.{uc_schema_name}.{base_table_name}_{vector_index_postfix}__{version_suffix}\n",
    "\n",
    "*Note: If you are comparing different chunking/parsing/embedding strategies, set the `version_suffix` parameter to maintain multiple versions of the pipeline output with the same base_table_name.*\n",
    "\n",
    "*Databricks suggests sharing a Vector Search endpoint across multiple agents.*"
   ]
  },
  {
   "cell_type": "code",
   "execution_count": null,
   "metadata": {},
   "outputs": [],
   "source": [
    "from utils.data_pipeline.data_pipeline_config import DataPipelineOuputConfig\n",
    "\n",
    "# Output configuration\n",
    "output_config = DataPipelineOuputConfig(\n",
    "    # Required parameters\n",
    "    uc_catalog_name=\"REPLACE_ME\", # usually same as source volume catalog\n",
    "    uc_schema_name=\"REPLACE_ME\", # usually same as source volume schema\n",
    "    base_table_name=\"REPLACE_ME\", # usually similar / same as the source volume name\n",
    "    vector_search_endpoint=\"REPLACE_ME\", # Vector Search endpoint to store the index\n",
    "\n",
    "    # Optional parameters, showing defaults\n",
    "    docs_table_postfix=\"docs\",              # default value is `docs`\n",
    "    chunked_table_postfix=\"docs_chunked\",   # default value is `docs_chunked`\n",
    "    vector_index_postfix=\"docs_chunked_index\", # default value is `docs_chunked_index`\n",
    "    version_suffix=\"v1\"                     # default is None\n",
    "\n",
    "    # Output tables / indexes follow this naming convention:\n",
    "    # {uc_catalog_name}.{uc_schema_name}.{base_table_name}_{docs_table_postfix}__{version_suffix}\n",
    "    # {uc_catalog_name}.{uc_schema_name}.{base_table_name}_{chunked_table_postfix}__{version_suffix}\n",
    "    # {uc_catalog_name}.{uc_schema_name}.{base_table_name}_{vector_index_postfix}__{version_suffix}\n",
    ")\n",
    "\n",
    "# Check UC locations exist\n",
    "is_valid, msg = output_config.validate_catalog_and_schema()\n",
    "if not is_valid:\n",
    "    raise Exception(msg)\n",
    "\n",
    "# Check Vector Search endpoint exists\n",
    "is_valid, msg = output_config.validate_vector_search_endpoint()\n",
    "if not is_valid:\n",
    "    raise Exception(msg)"
   ]
  },
  {
   "cell_type": "markdown",
   "metadata": {
    "application/vnd.databricks.v1+cell": {
     "cellMetadata": {},
     "inputWidgets": {},
     "nuid": "b5b380e5-1d9a-4c93-b8fe-ec23f00442a9",
     "showTitle": false,
     "tableResultSettingsMap": {},
     "title": ""
    }
   },
   "source": [
    "#### ✅✏️ Configure chunk size and the embedding model.\n",
    "\n",
    "**Chunk size and overlap** control how a larger document is turned into smaller chunks that can be processed by an embedding model.  See the AI Cookbook [chunking deep dive](https://ai-cookbook.io/nbs/3-deep-dive-data-pipeline.html#chunking) for more details.\n",
    "\n",
    "**The embedding model** is an AI model that is used to identify the most similar documents to a given user's query.  See the AI Cookbook [embedding model deep dive](https://ai-cookbook.io/nbs/3-deep-dive-data-pipeline.html#embedding-model) for more details.\n",
    "\n",
    "This notebook supports the following [Foundational Models](https://docs.databricks.com/en/machine-learning/foundation-models/index.html) or [External Model](https://docs.databricks.com/en/generative-ai/external-models/index.html) of type `/llm/v1/embeddings`/.  If you want to try another model, you will need to modify the `utils/get_recursive_character_text_splitter` Notebook to add support.\n",
    "- `databricks-gte-large-en` or `databricks-bge-large-en`\n",
    "- Azure OpenAI or OpenAI External Model of type `text-embedding-ada-002`, `text-embedding-3-small` or `text-embedding-3-large`"
   ]
  },
  {
   "cell_type": "code",
   "execution_count": null,
   "metadata": {
    "application/vnd.databricks.v1+cell": {
     "cellMetadata": {},
     "inputWidgets": {},
     "nuid": "06ee684b-c7bd-4c0e-8fd8-f54416948a5a",
     "showTitle": false,
     "tableResultSettingsMap": {},
     "title": ""
    }
   },
   "outputs": [],
   "source": [
    "from utils.data_pipeline.recursive_character_text_splitter import ChunkingConfig\n",
    "\n",
    "chunking_config = ChunkingConfig(\n",
    "    embedding_model_endpoint=\"databricks-gte-large-en\",  # A Model Serving endpoint supporting the /llm/v1/embeddings task\n",
    "    chunk_size_tokens=1024,\n",
    "    chunk_overlap_tokens=256,\n",
    ")\n",
    "\n",
    "# Validate the embedding endpoint & chunking config\n",
    "is_valid, msg = chunking_config.validate_embedding_endpoint()\n",
    "if not is_valid:\n",
    "    raise Exception(msg)\n",
    "\n",
    "is_valid, msg = chunking_config.validate_chunk_size_and_overlap()\n",
    "if not is_valid:\n",
    "    raise Exception(msg)"
   ]
  },
  {
   "cell_type": "markdown",
   "metadata": {},
   "source": [
    "#### 🚫✏️ Write the data pipeline configuration to a YAML\n",
    "\n",
    "This allows the configuration to be loaded referenced by the Agent's notebook."
   ]
  },
  {
   "cell_type": "code",
   "execution_count": 4,
   "metadata": {},
   "outputs": [],
   "source": [
    "from utils.data_pipeline.data_pipeline_config import DataPipelineConfig\n",
    "from utils.agents.tools import obj_to_yaml_file\n",
    "\n",
    "data_pipeline_config = DataPipelineConfig(\n",
    "    source=source_config,\n",
    "    output=output_config,\n",
    "    chunking_config=chunking_config,\n",
    ")\n",
    "\n",
    "obj_to_yaml_file(data_pipeline_config, \"./configs/data_pipeline_config.yaml\")"
   ]
  },
  {
   "cell_type": "markdown",
   "metadata": {
    "application/vnd.databricks.v1+cell": {
     "cellMetadata": {},
     "inputWidgets": {},
     "nuid": "a28cbf99-c4ca-4adc-905a-e7ebfe015730",
     "showTitle": false,
     "tableResultSettingsMap": {},
     "title": ""
    }
   },
   "source": [
    "#### 🛑 If you are running your initial data pipeline, you do not need to configure anything else, you can just `Run All` the notebook cells before.  You can modify these cells later to tune the quality of your data pipeline by changing the parsing logic."
   ]
  },
  {
   "cell_type": "markdown",
   "metadata": {
    "application/vnd.databricks.v1+cell": {
     "cellMetadata": {},
     "inputWidgets": {},
     "nuid": "95b6971b-b00b-4f42-bbe8-cc64eea2fff8",
     "showTitle": false,
     "tableResultSettingsMap": {},
     "title": ""
    }
   },
   "source": [
    "## 3️⃣ ⌨️ Data pipeline code\n",
    "\n",
    "The code below executes the data pipeline.  You can modify the below code as indicated to implement different parsing or chunking strategies or to extract additional metadata fields"
   ]
  },
  {
   "cell_type": "markdown",
   "metadata": {
    "application/vnd.databricks.v1+cell": {
     "cellMetadata": {},
     "inputWidgets": {},
     "nuid": "c85ddc92-10c5-405c-ae78-8ded5462333e",
     "showTitle": false,
     "tableResultSettingsMap": {},
     "title": ""
    }
   },
   "source": [
    "#### Pipeline step 1: Load & parse documents into a Delta Table\n",
    "\n",
    "In this step, we'll load files from the UC Volume defined in `source_config` into the Delta Table `storage_config.parsed_docs_table` . The contents of each file will become a separate row in our delta table.\n",
    "\n",
    "The path to the source document will be used as the `doc_uri` which is displayed to your end users in the Agent Evalution web application.\n",
    "\n",
    "After you test your POC with stakeholders, you can return here to change the parsing logic or extraction additional metadata about the documents to help improve the quality of your retriever."
   ]
  },
  {
   "cell_type": "markdown",
   "metadata": {
    "application/vnd.databricks.v1+cell": {
     "cellMetadata": {},
     "inputWidgets": {},
     "nuid": "27466460-1ee7-4fe4-8faf-da9ddff11847",
     "showTitle": false,
     "tableResultSettingsMap": {},
     "title": ""
    }
   },
   "source": [
    "##### ✅✏️ Customize the parsing function\n",
    "\n",
    "This default implementation parses PDF, HTML, and DOCX files using open source libraries.  Adjust `file_parser(...)` to add change the parsing logic, add support for more file types, or extract additional metadata about each document."
   ]
  },
  {
   "cell_type": "code",
   "execution_count": 9,
   "metadata": {
    "application/vnd.databricks.v1+cell": {
     "cellMetadata": {},
     "inputWidgets": {},
     "nuid": "d09fd38c-5b7b-47c5-aa6a-ff571ce2f83b",
     "showTitle": false,
     "tableResultSettingsMap": {},
     "title": ""
    }
   },
   "outputs": [],
   "source": [
    "from typing import TypedDict\n",
    "from datetime import datetime\n",
    "import warnings\n",
    "import traceback\n",
    "import os\n",
    "from urllib.parse import urlparse\n",
    "\n",
    "# PDF libraries\n",
    "import fitz\n",
    "import pymupdf4llm\n",
    "\n",
    "# HTML libraries\n",
    "import markdownify\n",
    "import re\n",
    "\n",
    "## DOCX libraries\n",
    "import pypandoc\n",
    "import tempfile\n",
    "\n",
    "## JSON libraries\n",
    "import json\n",
    "\n",
    "\n",
    "# Schema of the dict returned by `file_parser(...)`\n",
    "# This is used to create the output Delta Table's schema.\n",
    "# Adjust the class if you want to add additional columns from your parser, such as extracting custom metadata.\n",
    "class ParserReturnValue(TypedDict):\n",
    "    # DO NOT CHANGE THESE NAMES\n",
    "    # Parsed content of the document\n",
    "    content: str # do not change this name\n",
    "    # The status of whether the parser succeeds or fails, used to exclude failed files downstream\n",
    "    parser_status: str  # do not change this name\n",
    "    # Unique ID of the document\n",
    "    doc_uri: str  # do not change this name\n",
    "\n",
    "    # OK TO CHANGE THESE NAMES\n",
    "    # Optionally, you can add additional metadata fields here\n",
    "    # example_metadata: str\n",
    "    last_modified: datetime\n",
    "\n",
    "\n",
    "# Parser function.  Adjust this function to modify the parsing logic.\n",
    "def file_parser(\n",
    "    raw_doc_contents_bytes: bytes,\n",
    "    doc_path: str,\n",
    "    modification_time: datetime,\n",
    "    doc_bytes_length: int,\n",
    ") -> ParserReturnValue:\n",
    "    \"\"\"\n",
    "    Parses the content of a PDF document into a string.\n",
    "\n",
    "    This function takes the raw bytes of a PDF document and its path, attempts to parse the document using PyPDF,\n",
    "    and returns the parsed content and the status of the parsing operation.\n",
    "\n",
    "    Parameters:\n",
    "    - raw_doc_contents_bytes (bytes): The raw bytes of the document to be parsed (set by Spark when loading the file)\n",
    "    - doc_path (str): The DBFS path of the document, used to verify the file extension (set by Spark when loading the file)\n",
    "    - modification_time (timestamp): The last modification time of the document (set by Spark when loading the file)\n",
    "    - doc_bytes_length (long): The size of the document in bytes (set by Spark when loading the file)\n",
    "\n",
    "    Returns:\n",
    "    - ParserReturnValue: A dictionary containing the parsed document content and the status of the parsing operation.\n",
    "      The 'contenty will contain the parsed text as a string, and the 'parser_status' key will indicate\n",
    "      whether the parsing was successful or if an error occurred.\n",
    "    \"\"\"\n",
    "    try:\n",
    "        from markdownify import markdownify as md\n",
    "\n",
    "        filename, file_extension = os.path.splitext(doc_path)\n",
    "\n",
    "        if file_extension == \".pdf\":\n",
    "            pdf_doc = fitz.Document(stream=raw_doc_contents_bytes, filetype=\"pdf\")\n",
    "            md_text = pymupdf4llm.to_markdown(pdf_doc)\n",
    "\n",
    "            parsed_document = {\n",
    "                \"content\": md_text.strip(),\n",
    "                \"parser_status\": \"SUCCESS\",\n",
    "            }\n",
    "        elif file_extension == \".html\":\n",
    "            html_content = raw_doc_contents_bytes.decode(\"utf-8\")\n",
    "\n",
    "            markdown_contents = md(\n",
    "                str(html_content).strip(), heading_style=markdownify.ATX\n",
    "            )\n",
    "            markdown_stripped = re.sub(r\"\\n{3,}\", \"\\n\\n\", markdown_contents.strip())\n",
    "\n",
    "            parsed_document = {\n",
    "                \"content\": markdown_stripped,\n",
    "                \"parser_status\": \"SUCCESS\",\n",
    "            }\n",
    "        elif file_extension == \".docx\":\n",
    "            with tempfile.NamedTemporaryFile(delete=True) as temp_file:\n",
    "                temp_file.write(raw_doc_contents_bytes)\n",
    "                temp_file_path = temp_file.name\n",
    "                md = pypandoc.convert_file(temp_file_path, \"markdown\", format=\"docx\")\n",
    "\n",
    "                parsed_document = {\n",
    "                    \"content\": md.strip(),\n",
    "                    \"parser_status\": \"SUCCESS\",\n",
    "                }\n",
    "        elif file_extension in [\".txt\", \".md\"]:\n",
    "            parsed_document = {\n",
    "                \"content\": raw_doc_contents_bytes.decode(\"utf-8\").strip(),\n",
    "                \"parser_status\": \"SUCCESS\",\n",
    "            }\n",
    "        elif file_extension in [\".json\", \".jsonl\"]:\n",
    "            # NOTE: This is a placeholder for a JSON parser.  It's not a \"real\" parser, it just returns the raw JSON formatted into XML-like strings that LLMs tend to like.\n",
    "            json_data = json.loads(raw_doc_contents_bytes.decode(\"utf-8\"))\n",
    "            \n",
    "            def flatten_json_to_xml(obj, parent_key=''):\n",
    "                xml_parts = []\n",
    "                if isinstance(obj, dict):\n",
    "                    for key, value in obj.items():\n",
    "                        if isinstance(value, (dict, list)):\n",
    "                            xml_parts.append(flatten_json_to_xml(value, key))\n",
    "                        else:\n",
    "                            xml_parts.append(f\"<{key}>{str(value)}</{key}>\")\n",
    "                elif isinstance(obj, list):\n",
    "                    for i, item in enumerate(obj):\n",
    "                        if isinstance(item, (dict, list)):\n",
    "                            xml_parts.append(flatten_json_to_xml(item, f\"{parent_key}_{i}\"))\n",
    "                        else:\n",
    "                            xml_parts.append(f\"<{parent_key}_{i}>{str(item)}</{parent_key}_{i}>\")\n",
    "                else:\n",
    "                    xml_parts.append(f\"<{parent_key}>{str(obj)}</{parent_key}>\")\n",
    "                return \"\\n\".join(xml_parts)\n",
    "                \n",
    "            flattened_content = flatten_json_to_xml(json_data)\n",
    "            parsed_document = {\n",
    "                \"content\": flattened_content.strip(),\n",
    "                \"parser_status\": \"SUCCESS\",\n",
    "            }\n",
    "        else:\n",
    "            raise Exception(f\"No supported parser for {doc_path}\")\n",
    "\n",
    "        # Extract the required doc_uri\n",
    "        # convert from `dbfs:/Volumes/catalog/schema/pdf_docs/filename.pdf` to `/Volumes/catalog/schema/pdf_docs/filename.pdf`\n",
    "        modified_path = urlparse(doc_path).path\n",
    "        parsed_document[\"doc_uri\"] = modified_path\n",
    "\n",
    "        # Sample metadata extraction logic\n",
    "        # if \"test\" in parsed_document[\"content\n",
    "        #     parsed_document[\"example_metadata\"] = \"test\"\n",
    "        # else:\n",
    "        #     parsed_document[\"example_metadata\"] = \"not test\"\n",
    "\n",
    "        # Add the modified time\n",
    "        parsed_document[\"last_modified\"] = modification_time\n",
    "\n",
    "        return parsed_document\n",
    "\n",
    "    except Exception as e:\n",
    "        status = f\"An error occurred: {e}\\n{traceback.format_exc()}\"\n",
    "        warnings.warn(status)\n",
    "        return {\n",
    "            \"content\": \"\",\n",
    "            \"parser_status\": f\"ERROR: {status}\",\n",
    "        }\n"
   ]
  },
  {
   "cell_type": "markdown",
   "metadata": {
    "application/vnd.databricks.v1+cell": {
     "cellMetadata": {},
     "inputWidgets": {},
     "nuid": "61034803-4bdd-4f0b-b173-a82448ee1790",
     "showTitle": false,
     "tableResultSettingsMap": {},
     "title": ""
    }
   },
   "source": [
    "The below cell is debugging code to test your parsing function on a single record. "
   ]
  },
  {
   "cell_type": "code",
   "execution_count": null,
   "metadata": {
    "application/vnd.databricks.v1+cell": {
     "cellMetadata": {},
     "inputWidgets": {},
     "nuid": "48a3ab67-2e30-4e39-b05e-3a8ff304fd5b",
     "showTitle": false,
     "tableResultSettingsMap": {},
     "title": ""
    }
   },
   "outputs": [],
   "source": [
    "from utils.data_pipeline.file_loading import load_files_to_df\n",
    "from pyspark.sql import functions as F\n",
    "\n",
    "\n",
    "raw_files_df = load_files_to_df(\n",
    "    spark=spark,\n",
    "    source_path=source_config.volume_path,\n",
    ")\n",
    "\n",
    "print(f\"Loaded {raw_files_df.count()} files from {source_config.volume_path}.  Files: {source_config.list_files()}\")\n",
    "\n",
    "test_records_dict = raw_files_df.toPandas().to_dict(orient=\"records\")\n",
    "\n",
    "for record in test_records_dict:\n",
    "  print()\n",
    "  print(\"Testing parsing for file: \", record[\"path\"])\n",
    "  print()\n",
    "  test_result = file_parser(raw_doc_contents_bytes=record['content'], doc_path=record['path'], modification_time=record['modificationTime'], doc_bytes_length=record['length'])\n",
    "  print(test_result)\n",
    "  break # pause after 1 file.  if you want to test more files, remove the break statement\n"
   ]
  },
  {
   "cell_type": "markdown",
   "metadata": {
    "application/vnd.databricks.v1+cell": {
     "cellMetadata": {},
     "inputWidgets": {},
     "nuid": "9fb6db6c-faa0-4dac-be84-a832bbbb49b9",
     "showTitle": false,
     "tableResultSettingsMap": {},
     "title": ""
    }
   },
   "source": [
    "🚫✏️ The below cell is boilerplate code to apply the parsing function using Spark."
   ]
  },
  {
   "cell_type": "code",
   "execution_count": null,
   "metadata": {
    "application/vnd.databricks.v1+cell": {
     "cellMetadata": {},
     "inputWidgets": {},
     "nuid": "165706b2-5824-42e7-a22b-3ca0edfd0a77",
     "showTitle": false,
     "tableResultSettingsMap": {},
     "title": ""
    }
   },
   "outputs": [],
   "source": [
    "from utils.data_pipeline.file_loading import (\n",
    "    load_files_to_df,\n",
    "    apply_parsing_fn,\n",
    "    check_parsed_df_for_errors,\n",
    "    check_parsed_df_for_empty_parsed_files\n",
    ")\n",
    "from utils.data_pipeline.typed_dicts_to_spark_schema import typed_dicts_to_spark_schema\n",
    "from pyspark.errors import PySparkAttributeError\n",
    "\n",
    "# Load the UC Volume files into a Spark DataFrame\n",
    "raw_files_df = load_files_to_df(\n",
    "    spark=spark,\n",
    "    source_path=source_config.volume_path,\n",
    ")\n",
    "\n",
    "# Apply the parsing UDF to the Spark DataFrame\n",
    "parsed_files_df = apply_parsing_fn(\n",
    "    raw_files_df=raw_files_df,\n",
    "    # Modify this function to change the parser, extract additional metadata, etc\n",
    "    parse_file_fn=file_parser,\n",
    "    # The schema of the resulting Delta Table will follow the schema defined in ParserReturnValue\n",
    "    parsed_df_schema=typed_dicts_to_spark_schema(ParserReturnValue),\n",
    ")\n",
    "\n",
    "# Write to a Delta Table\n",
    "parsed_files_df.write.mode(\"overwrite\").option(\"overwriteSchema\", \"true\").saveAsTable(\n",
    "    output_config.parsed_docs_table\n",
    ")\n",
    "\n",
    "# Get resulting table\n",
    "parsed_files_df = spark.table(output_config.parsed_docs_table)\n",
    "\n",
    "print(f\"Parsed {parsed_files_df.count()} documents: \")\n",
    "try:\n",
    "    parsed_files_df.display()\n",
    "except PySparkAttributeError as e:\n",
    "    parsed_files_df.show()"
   ]
  },
  {
   "cell_type": "markdown",
   "metadata": {},
   "source": [
    "Check parsing results for any errors or empty parsing results."
   ]
  },
  {
   "cell_type": "code",
   "execution_count": null,
   "metadata": {},
   "outputs": [],
   "source": [
    "\n",
    "# Any documents that failed to parse\n",
    "is_error, msg, failed_docs_df = check_parsed_df_for_errors(parsed_files_df)\n",
    "if is_error:\n",
    "    try: # if in DBX notebook, render the dataframe, otherwise print it\n",
    "        failed_docs_df.display()\n",
    "    except PySparkAttributeError as e:\n",
    "        failed_docs_df.show()\n",
    "    raise Exception(msg)\n",
    "    \n",
    "# Any documents that returned empty parsing results\n",
    "is_error, msg, empty_docs_df = check_parsed_df_for_empty_parsed_files(parsed_files_df)\n",
    "if is_error:\n",
    "    try: # if in DBX notebook, render the dataframe, otherwise print it\n",
    "        empty_docs_df.display()\n",
    "    except PySparkAttributeError as e:\n",
    "        empty_docs_df.show()\n",
    "    raise Exception(msg)\n",
    "    \n",
    "\n",
    "# Filter for records without errors\n",
    "parsed_files_no_errors_df = parsed_files_df.filter(\n",
    "    parsed_files_df.parser_status == \"SUCCESS\"\n",
    ")\n",
    "\n",
    "# Display for results debugging\n",
    "print(f\"Parsed {parsed_files_no_errors_df.count()} documents: \")\n",
    "try:\n",
    "    parsed_files_no_errors_df.display()\n",
    "except PySparkAttributeError as e:\n",
    "    parsed_files_no_errors_df.show()"
   ]
  },
  {
   "cell_type": "markdown",
   "metadata": {
    "application/vnd.databricks.v1+cell": {
     "cellMetadata": {},
     "inputWidgets": {},
     "nuid": "e21c84e8-7682-4a7a-86fc-7f4f990bb490",
     "showTitle": false,
     "tableResultSettingsMap": {},
     "title": ""
    }
   },
   "source": [
    "#### Pipeline step 2: Compute chunks of documents\n",
    "\n",
    "In this step, we will split our documents into smaller chunks so they can be indexed in our vector database."
   ]
  },
  {
   "cell_type": "markdown",
   "metadata": {
    "application/vnd.databricks.v1+cell": {
     "cellMetadata": {},
     "inputWidgets": {},
     "nuid": "eecd460c-f287-47ce-98f1-cea78a1f3f64",
     "showTitle": false,
     "tableResultSettingsMap": {},
     "title": ""
    }
   },
   "source": [
    "\n",
    "##### ✅✏️ Chunking logic.\n",
    "\n",
    "We provide a default implementation of a recursive text splitter.  To create your own chunking logic, adapt the `get_recursive_character_text_splitter()` function inside `cookbook_utils.recursive_character_text_splitter.py`."
   ]
  },
  {
   "cell_type": "code",
   "execution_count": null,
   "metadata": {
    "application/vnd.databricks.v1+cell": {
     "cellMetadata": {},
     "inputWidgets": {},
     "nuid": "02c40228-f933-4af8-9121-ed2efa0985dd",
     "showTitle": false,
     "tableResultSettingsMap": {},
     "title": ""
    }
   },
   "outputs": [],
   "source": [
    "from utils.data_pipeline.recursive_character_text_splitter import (\n",
    "    get_recursive_character_text_splitter,\n",
    ")\n",
    "\n",
    "# Get the chunking function\n",
    "recursive_character_text_splitter_fn = get_recursive_character_text_splitter(\n",
    "    model_serving_endpoint=chunking_config.embedding_model_endpoint,\n",
    "    chunk_size_tokens=chunking_config.chunk_size_tokens,\n",
    "    chunk_overlap_tokens=chunking_config.chunk_overlap_tokens,\n",
    ")\n",
    "\n",
    "# Determine which columns to propagate from the docs table to the chunks table.\n",
    "\n",
    "# Get the columns from the parser except for the content\n",
    "# You can modify this to adjust which fields are propagated from the docs table to the chunks table.\n",
    "propagate_columns = [\n",
    "    field.name\n",
    "    for field in typed_dicts_to_spark_schema(ParserReturnValue).fields\n",
    "    if field.name != \"content\"\n",
    "]\n",
    "\n",
    "# If you want to implement retrieval strategies such as presenting the entire document vs. the chunk to the LLM, include `contentich contains the doc's full parsed text.  By default this is not included because the size of contcontentquite large and cause performance issues.\n",
    "# propagate_columns = [\n",
    "#     field.name\n",
    "#     for field in typed_dicts_to_spark_schema(ParserReturnValue).fields\n",
    "# ]"
   ]
  },
  {
   "cell_type": "markdown",
   "metadata": {
    "application/vnd.databricks.v1+cell": {
     "cellMetadata": {},
     "inputWidgets": {},
     "nuid": "b17add2c-e7f0-4903-8ae9-40ca0633a8d5",
     "showTitle": false,
     "tableResultSettingsMap": {},
     "title": ""
    }
   },
   "source": [
    "🚫✏️ Run the chunking function within Spark"
   ]
  },
  {
   "cell_type": "code",
   "execution_count": null,
   "metadata": {
    "application/vnd.databricks.v1+cell": {
     "cellMetadata": {},
     "inputWidgets": {},
     "nuid": "0dfa90f8-c4dc-4485-8fa8-dcd4c7d40618",
     "showTitle": false,
     "tableResultSettingsMap": {},
     "title": ""
    }
   },
   "outputs": [],
   "source": [
    "from utils.data_pipeline.chunk_docs import apply_chunking_fn\n",
    "\n",
    "parsed_files_df = spark.table(output_config.parsed_docs_table)\n",
    "\n",
    "chunked_docs_df = chunked_docs_table = apply_chunking_fn(\n",
    "    # The source documents table.\n",
    "    parsed_docs_df=parsed_files_df,\n",
    "    # The chunking function that takes a string (document) and returns a list of strings (chunks).\n",
    "    chunking_fn=recursive_character_text_splitter_fn,\n",
    "    # Choose which columns to propagate from the docs table to chunks table. `doc_uri` column is required we can propagate the original document URL to the Agent's web app.\n",
    "    propagate_columns=propagate_columns,\n",
    ")\n",
    "\n",
    "# Write to Delta Table\n",
    "chunked_docs_df.write.mode(\"overwrite\").option(\n",
    "    \"overwriteSchema\", \"true\"\n",
    ").saveAsTable(output_config.chunked_docs_table)\n",
    "\n",
    "# Get resulting table\n",
    "chunked_docs_df = spark.table(output_config.chunked_docs_table)\n",
    "\n",
    "# enable CDC feed for VS index sync\n",
    "cdc_results = spark.sql(f\"ALTER TABLE {output_config.chunked_docs_table} SET TBLPROPERTIES (delta.enableChangeDataFeed = true)\")\n",
    "\n",
    "try: # if in DBX notebook, render the dataframe, otherwise print it\n",
    "    chunked_docs_df.display()\n",
    "except PySparkAttributeError as e:\n",
    "    chunked_docs_df.show()"
   ]
  },
  {
   "cell_type": "markdown",
   "metadata": {
    "application/vnd.databricks.v1+cell": {
     "cellMetadata": {},
     "inputWidgets": {},
     "nuid": "9fe923a8-89c2-4852-9cea-98074b3ce404",
     "showTitle": false,
     "tableResultSettingsMap": {},
     "title": ""
    }
   },
   "source": [
    "#### 🚫✏️ Pipeline step 3: Create the vector index\n",
    "\n",
    "In this step, we'll embed the documents to compute the vector index over the chunks and create our retriever index that will be used to query relevant documents to the user question.  The embedding pipeline is handled within Databricks Vector Search using [Delta Sync](https://docs.databricks.com/en/generative-ai/create-query-vector-search.html#create-a-vector-search-index)"
   ]
  },
  {
   "cell_type": "code",
   "execution_count": null,
   "metadata": {
    "application/vnd.databricks.v1+cell": {
     "cellMetadata": {},
     "inputWidgets": {},
     "nuid": "d53faa42-2a65-40b0-8fc1-6c27e88df6d0",
     "showTitle": false,
     "tableResultSettingsMap": {},
     "title": ""
    }
   },
   "outputs": [],
   "source": [
    "from utils.data_pipeline.build_retriever_index import build_retriever_index\n",
    "from utils.cookbook.databricks_utils import get_table_url\n",
    "\n",
    "is_error, msg = retriever_index_result = build_retriever_index(\n",
    "    # Spark requires `` to escape names with special chars, VS client does not.\n",
    "    chunked_docs_table_name=output_config.chunked_docs_table.replace(\"`\", \"\"),\n",
    "    vector_search_endpoint=output_config.vector_search_endpoint,\n",
    "    vector_search_index_name=output_config.vector_index,\n",
    "\n",
    "    # Must match the embedding endpoint you used to chunk your documents\n",
    "    embedding_endpoint_name=chunking_config.embedding_model_endpoint,\n",
    "\n",
    "    # Set to true to re-create the vector search endpoint when re-running the data pipeline.  If set to True, syncing will not work if re-run the pipeline and change the schema of chunked_docs_table_name.  Keeping this as False will allow Vector Search to avoid recomputing embeddings for any row with that has a chunk_id that was previously computed.\n",
    "    force_delete_index_before_create=False,\n",
    ")\n",
    "if is_error:\n",
    "    raise Exception(msg)\n",
    "else:\n",
    "    print(f\"View sync status here: {get_table_url(output_config.vector_index)}\")\n"
   ]
  },
  {
   "cell_type": "markdown",
   "metadata": {
    "application/vnd.databricks.v1+cell": {
     "cellMetadata": {},
     "inputWidgets": {},
     "nuid": "1a1ad14b-2573-4485-8369-d417f7a548f6",
     "showTitle": false,
     "tableResultSettingsMap": {},
     "title": ""
    }
   },
   "source": [
    "#### 🚫✏️ Print links to view the resulting tables/index"
   ]
  },
  {
   "cell_type": "code",
   "execution_count": null,
   "metadata": {
    "application/vnd.databricks.v1+cell": {
     "cellMetadata": {},
     "inputWidgets": {},
     "nuid": "0cd40431-4cd3-4cc9-b38d-5ab817c40043",
     "showTitle": false,
     "tableResultSettingsMap": {},
     "title": ""
    }
   },
   "outputs": [],
   "source": [
    "from utils.cookbook.databricks_utils import get_table_url\n",
    "\n",
    "print()\n",
    "print(f\"Parsed docs table: {get_table_url(output_config.parsed_docs_table)}\\n\")\n",
    "print(f\"Chunked docs table: {get_table_url(output_config.chunked_docs_table)}\\n\")\n",
    "print(f\"Vector search index: {get_table_url(output_config.vector_index)}\\n\")"
   ]
  }
 ],
 "metadata": {
  "application/vnd.databricks.v1+notebook": {
   "dashboards": [],
   "environmentMetadata": null,
   "language": "python",
   "notebookMetadata": {
    "pythonIndentUnit": 2
   },
   "notebookName": "01_data_pipeline",
   "widgets": {}
  },
  "kernelspec": {
   "display_name": "genai-cookbook-T2SdtsNM-py3.11",
   "language": "python",
   "name": "python3"
  },
  "language_info": {
   "codemirror_mode": {
    "name": "ipython",
    "version": 3
   },
   "file_extension": ".py",
   "mimetype": "text/x-python",
   "name": "python",
   "nbconvert_exporter": "python",
   "pygments_lexer": "ipython3",
   "version": "3.11.10"
  }
 },
 "nbformat": 4,
 "nbformat_minor": 0
}
