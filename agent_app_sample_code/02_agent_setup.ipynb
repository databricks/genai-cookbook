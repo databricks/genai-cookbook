{
 "cells": [
  {
   "cell_type": "markdown",
   "metadata": {
    "application/vnd.databricks.v1+cell": {
     "cellMetadata": {},
     "inputWidgets": {},
     "nuid": "d0640741-6d84-482a-aa79-f87b04d04023",
     "showTitle": false,
     "tableResultSettingsMap": {},
     "title": ""
    }
   },
   "source": [
    "## 👉 START HERE: How to use this notebook\n",
    "\n",
    "### Step 1: Agent storage configuration\n",
    "\n",
    "This notebook initializes a `AgentStorageConfig` Pydantic class to define the locations where the Agent's code/config and its supporting data & metadata is stored in the Unity Catalog:\n",
    "- **Unity Catalog Model:** Stores staging/production versions of the Agent's code/config\n",
    "- **MLflow Experiment:** Stores every development version of the Agent's code/config, each version's associated quality/cost/latency evaluation results, and any MLflow Traces from your development & evaluation processes\n",
    "- **Evaluation Set Delta Table:** Stores the Agent's evaluation set\n",
    "\n",
    "This notebook does the following:\n",
    "1. Validates the provided locations exist.\n",
    "2. Serializes this configuration to `config/agent_storage_config.yaml` so other notebooks can use it"
   ]
  },
  {
   "cell_type": "markdown",
   "metadata": {
    "application/vnd.databricks.v1+cell": {
     "cellMetadata": {},
     "inputWidgets": {},
     "nuid": "7702011a-84dd-4281-bba1-ea9e2b5e551d",
     "showTitle": false,
     "tableResultSettingsMap": {},
     "title": ""
    }
   },
   "source": [
    "**Important note:** Throughout this notebook, we indicate which cells you:\n",
    "- ✅✏️ *should* customize - these cells contain config settings to change\n",
    "- 🚫✏️ *typically will not* customize - these cells contain boilerplate code required to validate / save the configuration\n",
    "\n",
    "*Cells that don't require customization still need to be run!*"
   ]
  },
  {
   "cell_type": "markdown",
   "metadata": {
    "application/vnd.databricks.v1+cell": {
     "cellMetadata": {},
     "inputWidgets": {},
     "nuid": "f8963d6e-3123-4095-bb92-9d508c52ed41",
     "showTitle": false,
     "tableResultSettingsMap": {},
     "title": ""
    }
   },
   "source": [
    "### 🚫✏️ Install Python libraries"
   ]
  },
  {
   "cell_type": "code",
   "execution_count": 0,
   "metadata": {
    "application/vnd.databricks.v1+cell": {
     "cellMetadata": {},
     "inputWidgets": {},
     "nuid": "0a145c3b-d3d9-4b95-b7f6-22e1d8e991c6",
     "showTitle": false,
     "tableResultSettingsMap": {},
     "title": ""
    }
   },
   "outputs": [],
   "source": [
    "%pip install -qqqq -U -r requirements.txt\n",
    "%restart_python"
   ]
  },
  {
   "cell_type": "markdown",
   "metadata": {},
   "source": [
    "### 🚫✏️ Connect to Databricks\n",
    "\n",
    "If running locally in an IDE using Databricks Connect, connect the Spark client & configure MLflow to use Databricks Managed MLflow.  If this running in a Databricks Notebook, these values are already set."
   ]
  },
  {
   "cell_type": "code",
   "execution_count": 3,
   "metadata": {},
   "outputs": [],
   "source": [
    "from mlflow.utils import databricks_utils as du\n",
    "\n",
    "if not du.is_in_databricks_notebook():\n",
    "    from databricks.connect import DatabricksSession\n",
    "    import os\n",
    "\n",
    "    spark = DatabricksSession.builder.getOrCreate()\n",
    "    os.environ[\"MLFLOW_TRACKING_URI\"] = \"databricks\""
   ]
  },
  {
   "cell_type": "markdown",
   "metadata": {
    "application/vnd.databricks.v1+cell": {
     "cellMetadata": {},
     "inputWidgets": {},
     "nuid": "a9feb28c-c72b-49b2-bbc4-a9bd4721a7cd",
     "showTitle": false,
     "tableResultSettingsMap": {},
     "title": ""
    }
   },
   "source": [
    "### 🚫✏️ Get current user info to set default values"
   ]
  },
  {
   "cell_type": "code",
   "execution_count": 4,
   "metadata": {
    "application/vnd.databricks.v1+cell": {
     "cellMetadata": {},
     "inputWidgets": {},
     "nuid": "7824cc0a-1b29-4cf9-a974-2c5ef885979f",
     "showTitle": false,
     "tableResultSettingsMap": {},
     "title": ""
    }
   },
   "outputs": [
    {
     "name": "stdout",
     "output_type": "stream",
     "text": [
      "User email: eric.peter@databricks.com\n",
      "User name: eric_peter\n",
      "Default UC catalog: main\n"
     ]
    }
   ],
   "source": [
    "from utils.cookbook.agent_storage_config import get_current_user_info\n",
    "\n",
    "user_email, user_name, default_catalog = get_current_user_info(spark)\n",
    "\n",
    "print(f\"User email: {user_email}\")\n",
    "print(f\"User name: {user_name}\")\n",
    "print(f\"Default UC catalog: {default_catalog}\")"
   ]
  },
  {
   "cell_type": "markdown",
   "metadata": {
    "application/vnd.databricks.v1+cell": {
     "cellMetadata": {},
     "inputWidgets": {},
     "nuid": "4b684188-d4eb-4944-86ae-9942a68308c2",
     "showTitle": false,
     "tableResultSettingsMap": {},
     "title": ""
    }
   },
   "source": [
    "### ✅✏️ Configure your Agent's storage locations\n",
    "\n",
    "Either review & accept the default values or enter your preferred location."
   ]
  },
  {
   "cell_type": "code",
   "execution_count": 11,
   "metadata": {
    "application/vnd.databricks.v1+cell": {
     "cellMetadata": {},
     "inputWidgets": {},
     "nuid": "64682c1f-7e61-430e-84c9-4fb9cad8152b",
     "showTitle": false,
     "tableResultSettingsMap": {},
     "title": ""
    }
   },
   "outputs": [
    {
     "name": "stdout",
     "output_type": "stream",
     "text": [
      "All catalogs and schemas exist for both model `ep.cookbook_local_test.my_agent` and evaluation table `ep.cookbook_local_test.my_agent_eval_set`.\n"
     ]
    }
   ],
   "source": [
    "from utils.cookbook.agent_storage_config import AgentStorageConfig\n",
    "import mlflow\n",
    "\n",
    "# Default values below for `AgentStorageConfig` \n",
    "agent_name = \"my_agent\"\n",
    "uc_catalog_name = f\"{default_catalog}\"\n",
    "uc_schema_name = f\"{user_name}_agents\"\n",
    "uc_catalog_name = f\"ep\"\n",
    "uc_schema_name = f\"cookbook_local_test\"\n",
    "\n",
    "# Agent storage configuration\n",
    "agent_storage_config = AgentStorageConfig(\n",
    "    uc_model_name=f\"{uc_catalog_name}.{uc_schema_name}.{agent_name}\",  # UC model to store staging/production versions of the Agent's code/config\n",
    "    evaluation_set_uc_table=f\"{uc_catalog_name}.{uc_schema_name}.{agent_name}_eval_set\",  # UC table to store the evaluation set\n",
    "    mlflow_experiment_name=f\"/Users/{user_email}/{agent_name}_mlflow_experiment\",  # MLflow Experiment to store development versions of the Agent and their associated quality/cost/latency evaluation results + MLflow Traces\n",
    ")\n",
    "\n",
    "# Validate the UC catalog and schema for the Agent'smodel & evaluation table\n",
    "is_valid, msg = agent_storage_config.validate_catalog_and_schema()\n",
    "if not is_valid:\n",
    "    raise Exception(msg)\n",
    "\n",
    "# Set the MLflow experiment, validating the path is valid\n",
    "mlflow.set_experiment(agent_storage_config.mlflow_experiment_name)\n",
    "# If running in a local IDE, set the MLflow experiment name as an environment variable\n",
    "os.environ[\"MLFLOW_EXPERIMENT_NAME\"] = agent_storage_config.mlflow_experiment_name"
   ]
  },
  {
   "cell_type": "markdown",
   "metadata": {
    "application/vnd.databricks.v1+cell": {
     "cellMetadata": {},
     "inputWidgets": {},
     "nuid": "7a49117d-f136-41fa-807d-8be60b863fa9",
     "showTitle": false,
     "tableResultSettingsMap": {},
     "title": ""
    }
   },
   "source": [
    "### 🚫✏️ Save the configuration for use by other notebooks"
   ]
  },
  {
   "cell_type": "code",
   "execution_count": 12,
   "metadata": {
    "application/vnd.databricks.v1+cell": {
     "cellMetadata": {},
     "inputWidgets": {},
     "nuid": "6dd99015-5b0d-420b-8a3e-067d84b84dc7",
     "showTitle": false,
     "tableResultSettingsMap": {},
     "title": ""
    }
   },
   "outputs": [],
   "source": [
    "from utils.agents.tools import obj_to_yaml_file\n",
    "\n",
    "obj_to_yaml_file(agent_storage_config, \"./configs/agent_storage_config.yaml\")"
   ]
  }
 ],
 "metadata": {
  "application/vnd.databricks.v1+notebook": {
   "dashboards": [],
   "environmentMetadata": null,
   "language": "python",
   "notebookMetadata": {
    "pythonIndentUnit": 2
   },
   "notebookName": "00_shared_config",
   "widgets": {}
  },
  "kernelspec": {
   "display_name": "genai-cookbook-T2SdtsNM-py3.11",
   "language": "python",
   "name": "python3"
  },
  "language_info": {
   "codemirror_mode": {
    "name": "ipython",
    "version": 3
   },
   "file_extension": ".py",
   "mimetype": "text/x-python",
   "name": "python",
   "nbconvert_exporter": "python",
   "pygments_lexer": "ipython3",
   "version": "3.11.10"
  }
 },
 "nbformat": 4,
 "nbformat_minor": 0
}
