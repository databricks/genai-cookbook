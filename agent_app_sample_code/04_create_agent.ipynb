{
 "cells": [
  {
   "cell_type": "markdown",
   "metadata": {
    "application/vnd.databricks.v1+cell": {
     "cellMetadata": {},
     "inputWidgets": {},
     "nuid": "31661828-f9bb-4fc2-a1bd-94424a27ed52",
     "showTitle": false,
     "tableResultSettingsMap": {},
     "title": ""
    }
   },
   "source": [
    "## 👉 START HERE: How to use this notebook\n",
    "\n",
    "# Step 3: Build, evaluate, & deploy your Agent\n",
    "\n",
    "Use this notebook to iterate on the code and configuration of your Agent.\n",
    "\n",
    "By the end of this notebook, you will have 1+ registered versions of your Agent, each coupled with a detailed quality evaluation.\n",
    "\n",
    "Optionally, you can deploy a version of your Agent that you can interact with in the [Mosiac AI Playground](https://docs.databricks.com/en/large-language-models/ai-playground.html) and let your business stakeholders who don't have Databricks accounts interact with it & provide feedback in the [Review App](https://docs.databricks.com/en/generative-ai/agent-evaluation/human-evaluation.html#review-app-ui).\n",
    "\n",
    "\n",
    "For each version of your agent, you will have an MLflow run inside your MLflow experiment that contains:\n",
    "- Your Agent's code & config\n",
    "- Evaluation metrics for cost, quality, and latency"
   ]
  },
  {
   "cell_type": "markdown",
   "metadata": {
    "application/vnd.databricks.v1+cell": {
     "cellMetadata": {},
     "inputWidgets": {},
     "nuid": "5d9f685a-fdb7-49a4-9e3a-a4a9e964d045",
     "showTitle": false,
     "tableResultSettingsMap": {},
     "title": ""
    }
   },
   "source": [
    "\n",
    "**Important note:** Throughout this notebook, we indicate which cell's code you:\n",
    "- ✅✏️ should customize - these cells contain code & config with business logic that you should edit to meet your requirements & tune quality.\n",
    "- 🚫✏️ should not customize - these cells contain boilerplate code required to load/save/execute your Agent\n",
    "\n",
    "*Cells that don't require customization still need to be run!  You CAN change these cells, but if this is the first time using this notebook, we suggest not doing so.*"
   ]
  },
  {
   "cell_type": "markdown",
   "metadata": {
    "application/vnd.databricks.v1+cell": {
     "cellMetadata": {},
     "inputWidgets": {},
     "nuid": "bb4f8cc0-1797-4beb-a9f2-df21a9db79f0",
     "showTitle": false,
     "tableResultSettingsMap": {},
     "title": ""
    }
   },
   "source": [
    "### 🚫✏️ Install Python libraries\n",
    "\n",
    "You do not need to modify this cell unless you need additional Python packages in your Agent."
   ]
  },
  {
   "cell_type": "code",
   "execution_count": 0,
   "metadata": {
    "application/vnd.databricks.v1+cell": {
     "cellMetadata": {},
     "inputWidgets": {},
     "nuid": "6d4030e8-ae97-4351-bebd-9651d283578f",
     "showTitle": false,
     "tableResultSettingsMap": {},
     "title": ""
    }
   },
   "outputs": [],
   "source": [
    "%pip install -qqqq -U -r requirements.txt\n",
    "# Restart to load the packages into the Python environment\n",
    "dbutils.library.restartPython()"
   ]
  },
  {
   "cell_type": "markdown",
   "metadata": {},
   "source": [
    "### 🚫✏️ Connect to Databricks\n",
    "\n",
    "If running locally in an IDE using Databricks Connect, connect the Spark client & configure MLflow to use Databricks Managed MLflow.  If this running in a Databricks Notebook, these values are already set."
   ]
  },
  {
   "cell_type": "code",
   "execution_count": 1,
   "metadata": {},
   "outputs": [],
   "source": [
    "from mlflow.utils import databricks_utils as du\n",
    "\n",
    "if not du.is_in_databricks_notebook():\n",
    "    from databricks.connect import DatabricksSession\n",
    "    import os\n",
    "\n",
    "    spark = DatabricksSession.builder.getOrCreate()\n",
    "    os.environ[\"MLFLOW_TRACKING_URI\"] = \"databricks\""
   ]
  },
  {
   "cell_type": "markdown",
   "metadata": {},
   "source": [
    "### 🚫✏️ Load the Agent's UC storage locations; set up MLflow experiment\n",
    "\n",
    "This notebook uses the UC model, MLflow Experiment, and Evaluation Set that you specified in the [Agent setup](02_agent_setup.ipynb) notebook."
   ]
  },
  {
   "cell_type": "code",
   "execution_count": 2,
   "metadata": {},
   "outputs": [
    {
     "name": "stdout",
     "output_type": "stream",
     "text": [
      "{\n",
      "  \"uc_model_name\": \"ep.cookbook_local_test.my_agent\",\n",
      "  \"evaluation_set_uc_table\": \"ep.cookbook_local_test.my_agent_eval_set\",\n",
      "  \"mlflow_experiment_name\": \"/Users/eric.peter@databricks.com/my_agent_mlflow_experiment\",\n",
      "  \"class_path\": \"utils.cookbook.agent_storage_config.AgentStorageConfig\"\n",
      "}\n",
      "View the MLflow Experiment at https://e2-dogfood.staging.cloud.databricks.com/ml/experiments/3916415516852775\n"
     ]
    }
   ],
   "source": [
    "from utils.cookbook.agent_storage_config import AgentStorageConfig\n",
    "from utils.cookbook.databricks_utils import get_mlflow_experiment_url\n",
    "from utils.agents.tools import load_obj_from_yaml_file\n",
    "import mlflow \n",
    "\n",
    "# Load the Agent's storage locations\n",
    "agent_storage_config: AgentStorageConfig= load_obj_from_yaml_file(\"./configs/agent_storage_config.yaml\")\n",
    "\n",
    "# Show the Agent's storage locations\n",
    "agent_storage_config.pretty_print()\n",
    "\n",
    "# set the MLflow experiment\n",
    "experiment_info = mlflow.set_experiment(agent_storage_config.mlflow_experiment_name)\n",
    "# If running in a local IDE, set the MLflow experiment name as an environment variable\n",
    "os.environ[\"MLFLOW_EXPERIMENT_NAME\"] = agent_storage_config.mlflow_experiment_name\n",
    "\n",
    "print(f\"View the MLflow Experiment at {get_mlflow_experiment_url(experiment_info.experiment_id)}\")"
   ]
  },
  {
   "cell_type": "markdown",
   "metadata": {},
   "source": [
    "### 🚫✏️ Helper method to log the Agent's code & config to MLflow\n",
    "\n",
    "Before we start, let's define a helper method to log the Agent's code & config to MLflow.  We will use this to log the agent's code & config to MLflow & the Unity Catalog.  It is used in evaluation & for deploying to Agent Evaluation's [Review App](https://docs.databricks.com/en/generative-ai/agent-evaluation/human-evaluation.html#review-app-ui) (a chat UI for your stakeholders to test this agent) and later, deplying the Agent to production."
   ]
  },
  {
   "cell_type": "code",
   "execution_count": 6,
   "metadata": {},
   "outputs": [],
   "source": [
    "\n",
    "import mlflow\n",
    "from mlflow.types.llm import CHAT_MODEL_INPUT_SCHEMA\n",
    "from utils.agents.signatures import STRING_RESPONSE_WITH_MESSAGES\n",
    "from mlflow.models.signature import ModelSignature\n",
    "from agents.function_calling_agent.function_calling_agent_openai_sdk import FunctionCallingAgent\n",
    "from utils.agents.function_calling_agent import FunctionCallingAgentConfig\n",
    "\n",
    "# This helper will log the Agent's code & config to an MLflow run and return the logged model's URI\n",
    "# If run from inside a mlfow.start_run() block, it will log to that run, otherwise it will log to a new run.\n",
    "# This logged Agent is ready for deployment, so if you are happy with your evaluation, it is ready to deploy!\n",
    "def log_agent_to_mlflow(agent_config: FunctionCallingAgentConfig):\n",
    "    # Get the agent's code path from the imported Agent class\n",
    "    agent_code_path = f\"{os.getcwd()}/{FunctionCallingAgent.__module__.replace('.', '/')}.py\"\n",
    "\n",
    "    # Get the pip requirements from the requirements.txt file\n",
    "    with open(\"requirements.txt\", \"r\") as file:\n",
    "        pip_requirements = [line.strip() for line in file.readlines()] + [\"pyspark\"] # manually add pyspark\n",
    "\n",
    "    logged_agent_info = mlflow.pyfunc.log_model(\n",
    "            artifact_path=\"agent\",\n",
    "            python_model=agent_code_path,\n",
    "            input_example=agent_config.input_example,\n",
    "            model_config=agent_config.model_dump(),\n",
    "            resources=agent_config.get_resource_dependencies(), # This allows the agents.deploy() command to securely provision credentials for the Agent's databricks resources e.g., vector index, model serving endpoints, etc\n",
    "            signature=ModelSignature(\n",
    "            inputs=CHAT_MODEL_INPUT_SCHEMA,\n",
    "            outputs=STRING_RESPONSE_WITH_MESSAGES #TODO: replace with MLflow signature\n",
    "        ),\n",
    "        code_paths=[os.path.join(os.getcwd(), \"utils\")],\n",
    "        pip_requirements=pip_requirements,\n",
    "    )\n",
    "\n",
    "    return logged_agent_info"
   ]
  },
  {
   "cell_type": "markdown",
   "metadata": {
    "application/vnd.databricks.v1+cell": {
     "cellMetadata": {},
     "inputWidgets": {},
     "nuid": "9933d05f-29fa-452e-abdc-2a02328fbe22",
     "showTitle": false,
     "tableResultSettingsMap": {},
     "title": ""
    }
   },
   "source": [
    "\n",
    "## 1️⃣ Iterate on the Agent's code & config to improve quality\n",
    "\n",
    "The below cells are used to execute your inner dev loop to improve the Agent's quality.\n",
    "\n",
    "We suggest the following process:\n",
    "1. Vibe check the Agent for 5 - 10 queries to verify it works\n",
    "2. Make any necessary changes to the code/config\n",
    "3. Use Agent Evaluation to evaluate the Agent using your evaluation set, which will provide a quality assessment & identify the root causes of any quality issues\n",
    "4. Based on that evaluation, make & test changes to the code/config to improve quality\n",
    "5. 🔁 Repeat steps 3 and 4 until you are satisified with the Agent's quality\n",
    "6. Deploy the Agent to Agent Evaluation's [Review App](https://docs.databricks.com/en/generative-ai/agent-evaluation/human-evaluation.html#review-app-ui) for pre-production testing\n",
    "7. Use the following notebooks to review that feedback (optionally adding new records to your evaluation set) & identify any further quality issues\n",
    "8. 🔁 Repeat steps 3 and 4 to fix any issues identified in step 7\n",
    "9. Deploy the Agent to a production-ready REST API endpoint (using the same cells in this notebook as step 6)\n"
   ]
  },
  {
   "cell_type": "code",
   "execution_count": 3,
   "metadata": {},
   "outputs": [
    {
     "name": "stdout",
     "output_type": "stream",
     "text": [
      "{\n",
      "    \"tools\": [\n",
      "        {\n",
      "            \"class_path\": \"utils.agents.vector_search.VectorSearchRetrieverTool\",\n",
      "            \"description\": \"Use this tool to search for product documentation.\",\n",
      "            \"doc_similarity_threshold\": 0.0,\n",
      "            \"filterable_columns\": [],\n",
      "            \"name\": \"search_product_docs\",\n",
      "            \"retriever_filter_parameter_prompt\": \"optional filters to apply to the search. An array of objects, each specifying a field name and the filters to apply to that field.\",\n",
      "            \"retriever_query_parameter_prompt\": \"query to look up in retriever\",\n",
      "            \"vector_search_index\": \"ep.cookbook_local_test.product_docs_docs_chunked_index__v1\",\n",
      "            \"vector_search_parameters\": {\n",
      "                \"num_results\": 5,\n",
      "                \"query_type\": \"ann\"\n",
      "            },\n",
      "            \"vector_search_schema\": {\n",
      "                \"additional_metadata_columns\": [],\n",
      "                \"chunk_text\": \"content_chunked\",\n",
      "                \"document_uri\": \"doc_uri\"\n",
      "            }\n",
      "        }\n",
      "    ],\n",
      "    \"llm_config\": {\n",
      "        \"llm_endpoint_name\": \"ep-gpt4o-new\",\n",
      "        \"llm_system_prompt_template\": \"## Role\\nYou are a helpful assistant that answers questions using a set of tools. If needed, you ask the user follow-up questions to clarify their request.\\n\\n## Objective\\nYour goal is to provide accurate, relevant, and helpful response based solely on the outputs from these tools. You are concise and direct in your responses.\\n\\n## Instructions\\n1. **Understand the Query**: Think step by step to analyze the user's question and determine the core need or problem. \\n\\n2. **Assess available tools**: Think step by step to consider each available tool and understand their capabilities in the context of the user's query.\\n\\n3. **Select the appropriate tool(s) OR ask follow up questions**: Based on your understanding of the query and the tool descriptions, decide which tool(s) should be used to generate a response. If you do not have enough information to use the available tools to answer the question, ask the user follow up questions to refine their request.  If you do not have a relevant tool for a question or the outputs of the tools are not helpful, respond with: \\\"I'm sorry, I can't help you with that.\\\"\",\n",
      "        \"llm_parameters\": {\n",
      "            \"temperature\": 0.01,\n",
      "            \"max_tokens\": 1500\n",
      "        }\n",
      "    },\n",
      "    \"input_example\": {\n",
      "        \"messages\": [\n",
      "            {\n",
      "                \"role\": \"user\",\n",
      "                \"content\": \"What can you help me with?\"\n",
      "            }\n",
      "        ]\n",
      "    },\n",
      "    \"class_path\": \"utils.agents.function_calling_agent.FunctionCallingAgentConfig\"\n",
      "}\n",
      "{'content': \"I'm sorry, I can't help you with that.\", 'messages': [{'role': 'user', 'content': \"find all docs from the section header 'Databricks documentation archive' or 'Work with files on Databricks'\"}, {'refusal': None, 'role': 'assistant', 'tool_calls': [{'id': 'call_1ZYcfmxZ4mFmVYUX1QYRBev8', 'function': {'arguments': '{\"query\":\"Databricks documentation archive\"}', 'name': 'search_product_docs'}, 'type': 'function'}]}, {'role': 'tool', 'tool_call_id': 'call_1ZYcfmxZ4mFmVYUX1QYRBev8', 'content': '[{\"page_content\": \"### Payment Method Declined\\\\n\\\\n- Verify that billing and account information match.\\\\n- Contact your bank to authorize the purchase if necessary.\\\\n\\\\n## Maintenance\\\\n\\\\n- Regularly clear cache under **Settings** > **Storage**.\\\\n- Install updates promptly to ensure security and optimal performance.\\\\n\\\\n## Customer Support\\\\n\\\\nFor further assistance, contact SmartPro Support at:\\\\n- **Phone**: 1-800-555-0199\\\\n- **Email**: support@smartpro.com\\\\n\\\\n## Warranty and Returns\\\\n\\\\n- The SmartPro X10 comes with a 1-year manufacturer warranty.\\\\n- For returns, contact support within 30 days of purchase.\\\\n- Follow on-screen instructions to process returns, provided in your SmartOS account under **Orders and Returns**.\\\\n\\\\n## Legal and Safety Information\\\\n\\\\nPlease read the safety instructions provided with your SmartPro X10 to avoid potential hazards and ensure safe use of the device.\\\\n\\\\nThank you for choosing SmartPro X10. We\\\\u2019re excited to be part of your journey to a smarter life!</product_doc>\\\\n<product_id>68a1cdd5-af21-457b-8271-bc6e5a3ddcdb</product_id>\", \"metadata\": {\"similarity_score\": 0.0017273688, \"doc_uri\": \"/Volumes/ep/cookbook_local_test/product_docs/68a1cdd5-af21-457b-8271-bc6e5a3ddcdb.jsonl\"}, \"id\": \"d5aec0dcf6e0178a17a92bcf57419bc0\"}, {\"page_content\": \"<product_category>Digital Services</product_category>\\\\n<product_sub_category>Cloud Storage</product_sub_category>\\\\n<product_name>SkyBox Cloud Storage</product_name>\\\\n<product_doc>### SkyBox Cloud Storage Documentation\\\\n\\\\n#### Overview\\\\nSkyBox Cloud Storage is a comprehensive cloud service that allows users to store, access, and manage their data securely from anywhere in the world. With user-friendly interfaces and robust security measures, SkyBox is designed for both personal and business use, providing flexible solutions to meet various storage needs.\\\\n\\\\n#### Getting Started\\\\n1. **Sign Up**\\\\n   - Visit the SkyBox website.\\\\n   - Click on \\'Sign Up\\' and enter your email and desired password.\\\\n   - Verify your email address through the confirmation link.\\\\n\\\\n2. **Setting Up Your Account**\\\\n   - Log in to your SkyBox account.\\\\n   - Complete your profile by entering contact and payment information.\\\\n   - Choose your initial storage plan: Free (10GB), Basic (50GB), or Premium (200GB).\\\\n\\\\n#### Account Management\\\\n- **Password Reset**: If you forget your password, click \\'Forgot Password\\' on the login page. Enter your registered email to receive a reset link.\\\\n- **Email Update**: Navigate to \\'Account Settings\\' and select \\'Change Email\\'. Enter your new email address and verify the change.\\\\n\\\\n#### Billing and Subscription\\\\n- **Subscription Plans**:\\\\n  - Monitor your current plan and usage under \\'Billing Info\\'.\\\\n  - Upgrade or downgrade your plan at any time by selecting \\'Change Plan\\'.\\\\n- **Billing Inquiries**:\\\\n  - View your billing history under \\'Invoices\\'.\\\\n  - For incorrect charges, contact support through the \\'Help\\' section.\\\\n\\\\n#### Data Security\\\\nSkyBox employs advanced encryption to protect your data. All files are encrypted both at rest and during transfer. Multi-factor authentication adds an extra layer of security to your account access.\\\\n\\\\n#### Troubleshooting\\\\n- **Account Suspended**:\\\\n  - Ensure no suspicious activities are noted by checking recent account activity logs.\\\\n  - Contact support to resolve the suspension.\\\\n- **Billing Discrepancies**:\\\\n  - Compare current and previous invoices using the billing section.\\\\n  - Report discrepancies immediately via support channels.\\\\n\\\\n#### Contact Support\\\\nFor unresolved issues, reach out to SkyBox Support:\\\\n- **Chat**: Available 24/7 on the SkyBox website.\\\\n- **Email**: support@skyboxcloud.com\\\\n- **Phone**: 1-800-555-SKYB (Monday to Friday, 9 AM to 5 PM EST)\\\\n\\\\n#### FAQ\\\\n- **How do I upgrade my storage?**\\\\n  Navigate to \\'Subscription\\' and choose the desired plan.\\\\n- **How is my data protected?**\\\\n  SkyBox uses AES-256 encryption and secure servers to protect your data.\\\\n\\\\nWith SkyBox Cloud Storage, manage your data effortlessly and securely, knowing our support team is always here to help whenever needed.</product_doc>\\\\n<product_id>ad407429-3f42-4572-8f5d-bc3d8e187218</product_id>\", \"metadata\": {\"similarity_score\": 0.0017120678, \"doc_uri\": \"/Volumes/ep/cookbook_local_test/product_docs/ad407429-3f42-4572-8f5d-bc3d8e187218.jsonl\"}, \"id\": \"c2e14dde83478c3debc45b2a797c2ac5\"}, {\"page_content\": \"### Technical Requirements\\\\n\\\\n**Supported Devices:**\\\\n- Smart TVs, smartphones, tablets, and computers.\\\\n- Compatible with iOS, Android, Windows, and macOS.\\\\n\\\\n**Network Requirements:**\\\\n- Minimum 5 Mbps for HD streaming.\\\\n- Minimum 25 Mbps for UHD streaming.\\\\n\\\\n### Troubleshooting\\\\n\\\\n**Login Issues:**\\\\n- Verify your email and password.\\\\n- Use the \\'Forgot Password?\\' link if necessary.\\\\n\\\\n**Buffering Problems:**\\\\n- Check your internet connection.\\\\n- Restart your router and device.\\\\n\\\\n**Failed Payments:**\\\\n- Update payment information.\\\\n- Contact your bank for authorization issues.\\\\n\\\\n### Customer Support\\\\n\\\\nOur support team is available 24/7 to help with your queries.\\\\n- **Email:** support@streamsphere.com\\\\n- **Phone:** 1-800-STREAM\\\\n- **Live Chat:** Available on our website\\\\n\\\\nThank you for choosing StreamSphere. Enjoy endless entertainment tailored just for you!</product_doc>\\\\n<product_id>72d3cf8b-353b-448a-9b1f-d0cc7121e29e</product_id>\", \"metadata\": {\"similarity_score\": 0.0016823884, \"doc_uri\": \"/Volumes/ep/cookbook_local_test/product_docs/72d3cf8b-353b-448a-9b1f-d0cc7121e29e.jsonl\"}, \"id\": \"ffeca114ab8591214701127acfb5705f\"}, {\"page_content\": \"<product_category>Streaming Service</product_category>\\\\n<product_sub_category>Video Streaming</product_sub_category>\\\\n<product_name>StreamSphere</product_name>\\\\n<product_doc>## Welcome to StreamSphere\\\\n\\\\nStreamSphere is your premier video streaming service, offering a vast library of films, TV shows, documentaries, and exclusive content. StreamSphere brings entertainment directly to you with unmatched quality and convenience.\\\\n\\\\n### Features\\\\n- **Extensive Library**: Access thousands of titles across different genres, including new releases and classic favorites.\\\\n- **High Definition Streaming**: Enjoy content in up to 4K Ultra HD with compatible devices and connections.\\\\n- **Device Compatibility**: Stream on smartphones, tablets, smart TVs, and more.\\\\n- **Offline Viewing**: Download select titles to watch offline.\\\\n- **Personalization**: Create multiple profiles and tailor your watching experience.\\\\n\\\\n### Account Management\\\\n- **Creating an Account**: Easy sign-up with just an email address and password. Access your account on multiple devices.\\\\n- **Managing Profiles**: Customize profiles with unique preferences and parental controls.\\\\n- **Subscription Plans**: Choose from various plans that suit your viewing habits, from basic to premium options.\\\\n\\\\n### Billing\\\\n- **Price Structure**: Understand the pricing tiers and what each includes.\\\\n- **Payment Methods**: Accepts major credit cards, PayPal, and other payment services.\\\\n- **Managing Your Subscription**: Visit \\\\u2018Account Settings\\\\u2019 > \\\\u2018Manage Subscription\\\\u2019 to modify or cancel subscriptions.\\\\n- **Common Billing Questions**:\\\\n  - Check billing history and recent charges.\\\\n  - Resolve overcharge issues and understand why they might occur, such as expired promotions.\\\\n\\\\n### Troubleshooting\\\\n- **Buffering Issues**: Ensure your internet speed is sufficient (at least 5 Mbps for HD streaming).\\\\n- **Playback Errors**: Restart your device, check for updates, or reinstall the StreamSphere app if issues persist.\\\\n- **Device Compatibility**: Ensure your device meets minimum requirements for streaming.\\\\n\\\\n### Contacting Support\\\\n- **Customer Support**: Available 24/7 via phone, chat, or email.\\\\n- **Preparing for Support**: Have your account ID and a description of the issue ready.\\\\n- **FAQs**: Visit the help section on our website for instant solutions to common problems.\\\\n\\\\n### Conclusion\\\\nStreamSphere is dedicated to bringing you the best in entertainment with seamless streaming and exceptional support. For any inquiries, feel free to reach out to our friendly support team. Thank you for choosing StreamSphere, where the world of entertainment is at your fingertips.</product_doc>\\\\n<product_id>01648e19-af52-4058-bc2d-55b5ac13e2b5</product_id>\", \"metadata\": {\"similarity_score\": 0.0016775263, \"doc_uri\": \"/Volumes/ep/cookbook_local_test/product_docs/01648e19-af52-4058-bc2d-55b5ac13e2b5.jsonl\"}, \"id\": \"f82156d6d545836741e5b02a4fc20ebc\"}, {\"page_content\": \"##### 7.1 Password Reset Issues\\\\n\\\\n- **Issue**: Not receiving password reset email.\\\\n- **Solution**: Check your spam folder, ensure your email address is correct, and request a new reset link.\\\\n\\\\n##### 7.2 Subscription and Billing\\\\n\\\\n- **Issue**: Unrecognized charges.\\\\n- **Solution**: Verify subscription status in \\'My Account\\'. Contact support if discrepancies persist.\\\\n\\\\n##### 7.3 Streaming Quality Problems\\\\n\\\\n- **Solution**: Ensure a stable internet connection, and reduce video quality if buffering.\\\\n\\\\n#### 8. FAQs\\\\n\\\\n- **Q: Can I download content for offline viewing?**\\\\n  - A: Yes, available on mobile apps with the Standard and Premium plans.\\\\n\\\\n- **Q: Can my whole family use one account?**\\\\n  - A: Yes, with multiple profiles per account, customized for each user\\'s preferences.\\\\n\\\\n#### 9. Contact Support\\\\n\\\\n- **Email**: support@streamwave.com\\\\n- **Phone**: 1-800-STREAMW\\\\n- **Live Chat**: Available 24/7 on our website.\\\\n\\\\n#### 10. Terms and Conditions\\\\n\\\\nFor detailed terms and conditions, including usage policies, please visit the \\'Terms of Service\\' section on our website.\\\\n\\\\nEnd of StreamWave Documentation.</product_doc>\\\\n<product_id>3af7f2ac-806c-483a-8735-a814510f899d</product_id>\", \"metadata\": {\"similarity_score\": 0.0016671538, \"doc_uri\": \"/Volumes/ep/cookbook_local_test/product_docs/3af7f2ac-806c-483a-8735-a814510f899d.jsonl\"}, \"id\": \"9966b221b8f226a9fb3b6ca71df9478c\"}]'}, {'refusal': None, 'role': 'assistant', 'tool_calls': [{'id': 'call_j2SbzXCLSdWONedgbKB7DvCs', 'function': {'arguments': '{\"query\":\"Work with files on Databricks\"}', 'name': 'search_product_docs'}, 'type': 'function'}]}, {'role': 'tool', 'tool_call_id': 'call_j2SbzXCLSdWONedgbKB7DvCs', 'content': '[{\"page_content\": \"<product_category>Software</product_category>\\\\n<product_sub_category>Cloud Storage Service</product_sub_category>\\\\n<product_name>SkyBox Cloud Storage</product_name>\\\\n<product_doc>### SkyBox Cloud Storage Documentation\\\\n\\\\n#### Introduction\\\\nWelcome to SkyBox Cloud Storage, your reliable solution for all file storage and management needs in the digital age. With SkyBox, effortlessly store, share, and access your files from anywhere at any time. Our service offers robust security, seamless integrations, and user-friendly interfaces suited for both personal and professional use.\\\\n\\\\n#### Getting Started\\\\n##### Creating an Account\\\\n1. Visit the SkyBox homepage and click \\'Sign Up\\'.\\\\n2. Enter your email address and create a password.\\\\n3. Accept the terms of service and privacy policy.\\\\n4. Click \\'Create Account\\' and verify your email using the link provided.\\\\n\\\\n##### Logging In\\\\n1. Go to the SkyBox login page.\\\\n2. Enter your registered email and password.\\\\n3. Click \\'Log In\\'.\\\\n\\\\n##### Navigating the Interface\\\\n- **Dashboard**: Your central hub showcasing recent activities and storage usage.\\\\n- **File Manager**: Allows you to organize and manage your files.\\\\n\\\\n#### Account Management\\\\n##### Updating Account Information\\\\n- **Email Address**: Go to \\'Account Settings\\' > \\'Email\\' > Edit and save changes.\\\\n- **Password**: Navigate to \\'Security Settings\\' > \\'Change Password\\'. Enter your current password, followed by a new one.\\\\n\\\\n##### Subscription Management\\\\n- Check and modify your plan under \\'Billing\\' > \\'Manage Subscription\\'.\\\\n\\\\n##### Accessing Support\\\\n- Use the \\'Help\\' icon to start a chat or view support resources.\\\\n\\\\n#### File Management\\\\n##### Uploading Files\\\\n1. Click \\'Upload\\' on the File Manager page.\\\\n2. Select files from your device and click \\'Open\\'.\\\\n\\\\n##### Downloading Files\\\\n1. Right-click the desired file and choose \\'Download\\'.\\\\n\\\\n##### Organizing Files\\\\n- Create folders by selecting \\'New Folder\\' in the File Manager.\\\\n- Drag and drop files to rearrange them.\\\\n\\\\n##### Sharing Files\\\\n- Click \\'Share\\' on the selected file, enter recipient\\'s email, and set permissions.\\\\n\\\\n#### Security Features\\\\n##### Data Encryption\\\\n- All files are encrypted using AES-256 encryption in transit and at rest.\\\\n\\\\n##### Privacy Settings\\\\n- Adjust visibility and access settings in \\'Privacy Settings\\'.\\\\n\\\\n##### Two-Factor Authentication\\\\n- Enable 2FA via \\'Security Settings\\' > \\'Enable 2FA\\'. Follow on-screen instructions to link your mobile device.\\\\n\\\\n#### Troubleshooting\\\\n##### Password Reset\\\\n1. Click \\'Forgot Password?\\' on the login page.\\\\n2. Enter your email and follow the link sent to your inbox.\\\\n\\\\n##### Account Access Issues\\\\n- Ensure your internet connection is stable.\\\\n- Check if your email and password are correctly entered.\\\\n- Contact support for persistent issues.\\\\n\\\\n##### File Recovery\\\\n- Navigate to \\'Recycle Bin\\' to restore deleted files within 30 days.\\\\n\\\\n#### FAQs\\\\n**Q: Can I access SkyBox on mobile devices?**\\\\nA: Yes, SkyBox apps are available for both Android and iOS.\\\\n\\\\n**Q: How much storage is available?**\\\\nA: Plans range from 10GB to 1TB, and additional storage can be purchased.\\\\n\\\\n#### Customer Support\\\\nFor further assistance, contact SkyBox Support:\\\\n- **Chat**: Available 24/7 via the website.\\\\n- **Email**: support@skybox.com\\\\n- **Phone**: 1-800-SKYBOX-HELP\\\\n\\\\n#### Glossary and Index\\\\n- **Dashboard**: Main page.\\\\n- **File Manager**: Section to handle files.\\\\n\\\\nFor a complete index, refer to page 11.</product_doc>\\\\n<product_id>aded115c-e4a7-4c8b-ba51-d6bbb6feeacb</product_id>\", \"metadata\": {\"similarity_score\": 0.0015440867, \"doc_uri\": \"/Volumes/ep/cookbook_local_test/product_docs/aded115c-e4a7-4c8b-ba51-d6bbb6feeacb.jsonl\"}, \"id\": \"4059d14a71b14cad18a838f70f5de7c5\"}, {\"page_content\": \"<product_category>Services</product_category>\\\\n<product_sub_category>Cloud Storage</product_sub_category>\\\\n<product_name>SkyVault Cloud Storage</product_name>\\\\n<product_doc>### SkyVault Cloud Storage Documentation\\\\n\\\\n#### Overview\\\\nSkyVault Cloud Storage is your reliable partner for secure and accessible digital file storage. Our service offers seamless synchronization, robust security, and intuitive file sharing, perfect for both personal and business needs.\\\\n\\\\n#### Features and Benefits\\\\n- **Secure Login and Access**: Utilize advanced encryption protocols to protect your data.\\\\n- **Multi-device Synchronization**: Access your files anytime, anywhere, on any device.\\\\n- **Collaboration Tools**: Share and collaborate on documents with ease, enhancing productivity.\\\\n\\\\n#### Account Setup\\\\n1. **Visit the SkyVault Website**: Navigate to www.skyvault.com and click \\'Sign Up\\'.\\\\n2. **Enter Your Details**: Provide your name, email, and create a password.\\\\n3. **Verify Your Email**: Check your inbox for a verification link. If not received, check spam/junk folders.\\\\n4. **Set Security Preferences**: Choose security questions and set up two-factor authentication for added security.\\\\n\\\\n#### Password Management\\\\n- **Resetting Your Password**:\\\\n  1. Go to the login page and click \\'Forgot Password?\\'.\\\\n  2. Enter your registered email to receive a password reset link.\\\\n  3. Check all email folders if the link does not appear immediately.\\\\n  4. Follow the link to set a new password.\\\\n\\\\n#### Data Management\\\\n- **Uploading Files**: Click \\'Upload\\' and select files from your device.\\\\n- **Organizing Files**: Create folders to categorize and manage your documents easily.\\\\n- **Sharing Files**: Use the \\'Share\\' function to send files with links or permissions.\\\\n- **Managing Storage Limits**: Monitor usage through the dashboard and explore upgrade options if needed.\\\\n\\\\n#### Subscription and Billing\\\\n- **Viewing Invoices**: Access your account settings and select \\'Billing\\'.\\\\n- **Managing Subscriptions**: Choose \\'Subscription\\' to view or change your plan.\\\\n- **Invoice Issues**: If an invoice is missing, check spam/junk folders or request a resend through support.\\\\n\\\\n#### Troubleshooting Common Issues\\\\n- **Email Not Received**: Verify correct email entry, check spam folders, or resend information from account settings.\\\\n- **Accessing Files**: Ensure stable internet connection and sufficient storage space.\\\\n\\\\n#### Technical Support and Resources\\\\n- **Customer Support**: Contact us at support@skyvault.com or call 1-800-SKY-HELP.\\\\n- **Additional Resources**: Visit our help center for FAQs, tutorials, and community forums at www.skyvault.com/help.\\\\n\\\\n#### Security Best Practices\\\\n- **Enable Two-Factor Authentication**: Enhance security by adding a second verification step.\\\\n- **Recognize Phishing Attempts**: SkyVault will never ask for your credentials directly. Report suspicious emails to phishing@skyvault.com.\\\\n\\\\nSkyVault Cloud Storage helps secure your digital assets with ease and convenience. Explore our advanced features to optimize your digital storage solutions today!</product_doc>\\\\n<product_id>861660a8-be93-4686-a188-8ede24f4490b</product_id>\", \"metadata\": {\"similarity_score\": 0.0015139005, \"doc_uri\": \"/Volumes/ep/cookbook_local_test/product_docs/861660a8-be93-4686-a188-8ede24f4490b.jsonl\"}, \"id\": \"54e669598129dac597d6d3f6330fcb26\"}, {\"page_content\": \"<product_category>Digital Services</product_category>\\\\n<product_sub_category>Cloud Storage</product_sub_category>\\\\n<product_name>SkyBox Cloud Storage</product_name>\\\\n<product_doc>### SkyBox Cloud Storage Documentation\\\\n\\\\n#### Overview\\\\nSkyBox Cloud Storage is a comprehensive cloud service that allows users to store, access, and manage their data securely from anywhere in the world. With user-friendly interfaces and robust security measures, SkyBox is designed for both personal and business use, providing flexible solutions to meet various storage needs.\\\\n\\\\n#### Getting Started\\\\n1. **Sign Up**\\\\n   - Visit the SkyBox website.\\\\n   - Click on \\'Sign Up\\' and enter your email and desired password.\\\\n   - Verify your email address through the confirmation link.\\\\n\\\\n2. **Setting Up Your Account**\\\\n   - Log in to your SkyBox account.\\\\n   - Complete your profile by entering contact and payment information.\\\\n   - Choose your initial storage plan: Free (10GB), Basic (50GB), or Premium (200GB).\\\\n\\\\n#### Account Management\\\\n- **Password Reset**: If you forget your password, click \\'Forgot Password\\' on the login page. Enter your registered email to receive a reset link.\\\\n- **Email Update**: Navigate to \\'Account Settings\\' and select \\'Change Email\\'. Enter your new email address and verify the change.\\\\n\\\\n#### Billing and Subscription\\\\n- **Subscription Plans**:\\\\n  - Monitor your current plan and usage under \\'Billing Info\\'.\\\\n  - Upgrade or downgrade your plan at any time by selecting \\'Change Plan\\'.\\\\n- **Billing Inquiries**:\\\\n  - View your billing history under \\'Invoices\\'.\\\\n  - For incorrect charges, contact support through the \\'Help\\' section.\\\\n\\\\n#### Data Security\\\\nSkyBox employs advanced encryption to protect your data. All files are encrypted both at rest and during transfer. Multi-factor authentication adds an extra layer of security to your account access.\\\\n\\\\n#### Troubleshooting\\\\n- **Account Suspended**:\\\\n  - Ensure no suspicious activities are noted by checking recent account activity logs.\\\\n  - Contact support to resolve the suspension.\\\\n- **Billing Discrepancies**:\\\\n  - Compare current and previous invoices using the billing section.\\\\n  - Report discrepancies immediately via support channels.\\\\n\\\\n#### Contact Support\\\\nFor unresolved issues, reach out to SkyBox Support:\\\\n- **Chat**: Available 24/7 on the SkyBox website.\\\\n- **Email**: support@skyboxcloud.com\\\\n- **Phone**: 1-800-555-SKYB (Monday to Friday, 9 AM to 5 PM EST)\\\\n\\\\n#### FAQ\\\\n- **How do I upgrade my storage?**\\\\n  Navigate to \\'Subscription\\' and choose the desired plan.\\\\n- **How is my data protected?**\\\\n  SkyBox uses AES-256 encryption and secure servers to protect your data.\\\\n\\\\nWith SkyBox Cloud Storage, manage your data effortlessly and securely, knowing our support team is always here to help whenever needed.</product_doc>\\\\n<product_id>ad407429-3f42-4572-8f5d-bc3d8e187218</product_id>\", \"metadata\": {\"similarity_score\": 0.0014986959, \"doc_uri\": \"/Volumes/ep/cookbook_local_test/product_docs/ad407429-3f42-4572-8f5d-bc3d8e187218.jsonl\"}, \"id\": \"c2e14dde83478c3debc45b2a797c2ac5\"}, {\"page_content\": \"<product_category>Books</product_category>\\\\n<product_sub_category>Fiction</product_sub_category>\\\\n<product_name>FictionFlow Reader</product_name>\\\\n<product_doc>### FictionFlow Reader - Comprehensive User Guide\\\\n\\\\n#### Introduction\\\\nWelcome to the FictionFlow Reader, your ultimate gateway to the world of fiction. Designed with the avid reader in mind, FictionFlow offers state-of-the-art features to enhance your reading experience. Immerse yourself in a vast collection of fiction genres, with seamless access and a comfortable reading interface.\\\\n\\\\n#### Getting Started\\\\n\\\\n**Unboxing Your FictionFlow Reader:**\\\\n- Carefully remove the FictionFlow Reader, charger cable, and user manual from the box.\\\\n\\\\n**Initial Setup:**\\\\n- Charge your device using the provided USB charger.\\\\n- Press the power button for three seconds to turn on your FictionFlow Reader.\\\\n\\\\n**Connecting to Wi-Fi:**\\\\n- Go to Settings > Wi-Fi.\\\\n- Select your network and enter the password.\\\\n- Confirm to connect.\\\\n\\\\n**Creating a User Account:**\\\\n- Tap on \\\\u2018Account\\\\u2019 on the homescreen.\\\\n- Enter your email and create a password.\\\\n- Verify your account through the confirmation email.\\\\n\\\\n#### Using the FictionFlow Reader\\\\n\\\\n**Browsing and Purchasing Books:**\\\\n- Tap \\'Store\\' on the menu to explore our collection.\\\\n- Use filters to narrow your search (e.g., genre, bestseller).\\\\n- Tap on a book cover to see details and purchase.\\\\n\\\\n**Reading Experience:**\\\\n- Access your library from the \\'Library\\' menu.\\\\n- Tap the desired book cover to open.\\\\n- Swipe or tap on either side of the screen to navigate pages.\\\\n- Adjust text size and style via \\'Reading Settings\\'.\\\\n\\\\n**Customizing Your Reading:**\\\\n- Long-press a word or section for dictionary/thesaurus access.\\\\n- Add bookmarks by tapping the corner of a page.\\\\n- Annotate by highlighting text and selecting the note option.\\\\n\\\\n#### Advanced Features\\\\n\\\\n**Annotation Tools:**\\\\n- Highlight, underline, and add notes to your favorite passages.\\\\n- Access your annotations from the \\'Notes\\' section.\\\\n\\\\n**Sync Across Devices:**\\\\n- Ensure you\\\\u2019re logged in on all devices to sync books and progress.\\\\n- Toggle \\'Sync\\' under Settings > Preferences.\\\\n\\\\n**Offline Reading:**\\\\n- Download books by clicking \\\\u2018Download\\\\u2019 on the book details page.\\\\n- Access downloads from the \\\\u2018Downloads\\\\u2019 section offline.\\\\n\\\\n**Social Sharing:**\\\\n- Share your reads and thoughts by connecting your social media under Settings > Social.\\\\n- Post directly from the book\\\\u2019s menu.\\\\n\\\\n#### Troubleshooting and Common Issues\\\\n\\\\n**Connectivity Problems:**\\\\n- Ensure Wi-Fi is active.\\\\n- Restart the FictionFlow Reader and reattempt connection.\\\\n\\\\n**E-Book Loading Errors:**\\\\n- Check internet connectivity.\\\\n- Restart the device and access the book again.\\\\n\\\\n**Device Performance Issues:**\\\\n- Clear cache via Settings > Device Settings.\\\\n- Regularly update firmware from Settings > System Updates.\\\\n\\\\n#### FAQs\\\\n- **How to reset my password?**\\\\n  Go to Account > Forgot Password and follow the steps.\\\\n- **Can I read foreign language books?**\\\\n  Yes, FictionFlow supports multiple languages. Change language settings in the book\\'s menu.\\\\n\\\\n#### Customer Support\\\\nShould you face further issues, contact FictionFlow Support:\\\\n\\\\n- Email: support@fictionflow.com\\\\n- Phone: 1-800-555-READ\\\\n- Live Chat: Available on our website homepage\\\\n\\\\nWe are committed to ensuring your reading experience is seamless and enjoyable. Happy reading with FictionFlow!</product_doc>\\\\n<product_id>2ec4b8d1-c01c-4e7b-9095-4a9f1922eae7</product_id>\", \"metadata\": {\"similarity_score\": 0.0014983622, \"doc_uri\": \"/Volumes/ep/cookbook_local_test/product_docs/2ec4b8d1-c01c-4e7b-9095-4a9f1922eae7.jsonl\"}, \"id\": \"56ea9721acfa2827ad662dc8a341e9ad\"}, {\"page_content\": \"<product_category>Online Services</product_category>\\\\n<product_sub_category>Cloud Storage</product_sub_category>\\\\n<product_name>CloudVault</product_name>\\\\n<product_doc>## CloudVault: Your Comprehensive Cloud Storage Solution\\\\n\\\\n### Overview\\\\nCloudVault is an advanced cloud storage solution designed to securely store, manage, and share your digital files across various devices. With CloudVault, enjoy easy accessibility, robust security features, and seamless collaboration on your content.\\\\n\\\\n### Setup\\\\n\\\\n#### Account Creation\\\\n1. Visit the CloudVault website.\\\\n2. Click on \\'Sign Up\\'.\\\\n3. Enter your email address and create a password.\\\\n4. Confirm your email through the link sent to your inbox.\\\\n5. Complete your profile with necessary personal details.\\\\n\\\\n#### First-Time Login\\\\n1. Navigate to the CloudVault homepage.\\\\n2. Click on \\'Login\\'.\\\\n3. Input your registered email and password.\\\\n4. If logging in for the first time, follow the prompts to set up security questions.\\\\n\\\\n### Daily Usage\\\\n\\\\n#### Uploading Files\\\\n1. Log into your CloudVault account.\\\\n2. Click on the \\'Upload\\' button on the dashboard.\\\\n3. Select files from your device to upload.\\\\n4. Organize files into folders by dragging them accordingly.\\\\n\\\\n#### Sharing Files\\\\n1. Navigate to the file you wish to share.\\\\n2. Click on \\'Share\\'.\\\\n3. Enter the collaborator\\'s email and set access permissions (view, edit, etc.).\\\\n4. Click \\'Send\\' to share the file.\\\\n\\\\n### Security Features\\\\n\\\\n#### Password Protection\\\\n- Ensure your password is at least 8 characters with letters, numbers, and symbols.\\\\n\\\\n#### Two-Factor Authentication (2FA)\\\\n1. Go to \\'Account Settings\\'.\\\\n2. Enable 2FA by linking your phone number.\\\\n3. Verify setup through the code sent to your mobile device.\\\\n\\\\n### Account Management\\\\n\\\\n#### Updating Personal Information\\\\n1. Log into CloudVault.\\\\n2. Go to \\'Profile Settings\\'.\\\\n3. Update your information and save changes.\\\\n\\\\n#### Viewing Usage\\\\n- Access your dashboard to see storage usage statistics.\\\\n\\\\n#### Managing Subscription\\\\n1. Click on \\'Subscription Details\\'.\\\\n2. View current plan, billing history, and make changes if necessary.\\\\n\\\\n### Troubleshooting Common Issues\\\\n\\\\n#### Password Reset\\\\n1. Select \\\\u2018Forgot Password\\\\u2019 on the login page.\\\\n2. Enter your registered email to receive a reset link.\\\\n3. Follow the email instructions to set a new password.\\\\n\\\\n#### Addressing Unauthorized Access\\\\n1. Update your password immediately.\\\\n2. Review recent login activity under \\'Security Settings\\'.\\\\n3. Enable 2FA for added security.\\\\n\\\\n#### Billing Discrepancies\\\\n- Contact support if you notice unexpected charges.\\\\n\\\\n### Customer Support\\\\nFor unresolved issues, contact CloudVault support via:\\\\n- Live chat twenty-four seven on our website.\\\\n- Phone: 1-800-CLOUDVAULT\\\\n- Email: support@cloudvault.com\\\\n\\\\n### Technical Specifications\\\\n- Supported Browsers: Chrome, Firefox, Safari\\\\n- Operating Systems: Windows, macOS, iOS, Android\\\\n\\\\nHarness the power of CloudVault to store and manage your digital spaces securely and efficiently.</product_doc>\\\\n<product_id>1d544c5d-a87d-4da3-ac62-5bfe3c85710c</product_id>\", \"metadata\": {\"similarity_score\": 0.0014751076, \"doc_uri\": \"/Volumes/ep/cookbook_local_test/product_docs/1d544c5d-a87d-4da3-ac62-5bfe3c85710c.jsonl\"}, \"id\": \"04eb18ec72a612fbf9b2ee8522e46b4d\"}]'}, {'content': \"I'm sorry, I can't help you with that.\", 'role': 'assistant'}]}\n"
     ]
    }
   ],
   "source": [
    "# Import Cookbook Agent configurations, which are Pydantic models\n",
    "from utils.agents.function_calling_agent import (\n",
    "    FunctionCallingAgentConfig,\n",
    ")\n",
    "from utils.data_pipeline.data_pipeline_config import (\n",
    "    DataPipelineConfig,\n",
    ")\n",
    "from utils.agents.llm import LLMConfig, LLMParametersConfig\n",
    "from utils.agents.tools import obj_to_yaml_file, load_obj_from_yaml_file\n",
    "from utils.agents.vector_search import (\n",
    "    VectorSearchRetrieverTool,\n",
    "    VectorSearchSchema,\n",
    ")\n",
    "import json\n",
    "\n",
    "########################\n",
    "# #### 🚫✏️ Load the Vector Index Unity Cataloglocation from the data pipeline configuration\n",
    "# Usage:\n",
    "# - If you used `01_data_pipeline` to create your Vector Index, run this cell.\n",
    "# - If your Vector Index was created elsewhere, comment out this logic and set the UC location in the Retriever config.\n",
    "########################\n",
    "\n",
    "data_pipeline_config: DataPipelineConfig = load_obj_from_yaml_file(\n",
    "    \"./configs/data_pipeline_config.yaml\"\n",
    ")\n",
    "\n",
    "########################\n",
    "# #### ✅✏️ Retriever tool that connects to the Vector Search index\n",
    "########################\n",
    "\n",
    "retriever_tool = VectorSearchRetrieverTool(\n",
    "    name=\"search_product_docs\",\n",
    "    description=\"Use this tool to search for product documentation.\",\n",
    "    vector_search_index=data_pipeline_config.output.vector_index,\n",
    "    vector_search_schema=VectorSearchSchema(\n",
    "        # These columns are the default values used in the `01_data_pipeline` notebook\n",
    "        # If you used a different column names in that notebook OR you are using a pre-built vector index, update the column names here.\n",
    "        chunk_text=\"content_chunked\",  # Contains the text of each document chunk\n",
    "        document_uri=\"doc_uri\",  # The document URI of the chunk e.g., \"/Volumes/catalog/schema/volume/file.pdf\" - displayed as the document ID in the Review App\n",
    "        additional_metadata_columns=[],  # Additional columns to return from the vector database and present to the LLM\n",
    "    ),\n",
    "    # Optional parameters, see VectorSearchRetrieverTool.__doc__ for details.  The default values are shown below.\n",
    "    # doc_similarity_threshold=0.0,\n",
    "    # vector_search_parameters=VectorSearchParameters(\n",
    "    #     num_results=5,\n",
    "    #     query_type=\"ann\"\n",
    "    # ),\n",
    "    # Adding columns here will allow the Agent's LLM to dynamically apply filters based on the user's query.\n",
    "    # filterable_columns=[]\n",
    ")\n",
    "\n",
    "########################\n",
    "#### ✅✏️ Agent's LLM configuration\n",
    "########################\n",
    "\n",
    "system_prompt = \"\"\"\n",
    "## Role\n",
    "You are a helpful assistant that answers questions using a set of tools. If needed, you ask the user follow-up questions to clarify their request.\n",
    "\n",
    "## Objective\n",
    "Your goal is to provide accurate, relevant, and helpful response based solely on the outputs from these tools. You are concise and direct in your responses.\n",
    "\n",
    "## Instructions\n",
    "1. **Understand the Query**: Think step by step to analyze the user's question and determine the core need or problem. \n",
    "\n",
    "2. **Assess available tools**: Think step by step to consider each available tool and understand their capabilities in the context of the user's query.\n",
    "\n",
    "3. **Select the appropriate tool(s) OR ask follow up questions**: Based on your understanding of the query and the tool descriptions, decide which tool(s) should be used to generate a response. If you do not have enough information to use the available tools to answer the question, ask the user follow up questions to refine their request.  If you do not have a relevant tool for a question or the outputs of the tools are not helpful, respond with: \"I'm sorry, I can't help you with that.\"\n",
    "\"\"\".strip()\n",
    "\n",
    "fc_agent_config = FunctionCallingAgentConfig(\n",
    "    llm_config=LLMConfig(\n",
    "        llm_endpoint_name=\"ep-gpt4o-new\",  # Model serving endpoint w/ a Chat Completions API\n",
    "        llm_system_prompt_template=system_prompt,  # System prompt template\n",
    "        llm_parameters=LLMParametersConfig(\n",
    "            temperature=0.01, max_tokens=1500\n",
    "        ),  # LLM parameters\n",
    "    ),\n",
    "    # Add one or more tools that comply with the CookbookTool interface\n",
    "    tools=[retriever_tool],\n",
    ")\n",
    "\n",
    "# Print the configuration as a JSON string to see it all together\n",
    "print(json.dumps(fc_agent_config.model_dump(), indent=4))\n",
    "\n",
    "########################\n",
    "##### Dump the configuration to a YAML\n",
    "# Optional step, this allows the Agent's code file to be run by itself (e.g., outside of this notebook) using the above configuration.\n",
    "########################\n",
    "# Import the default YAML config file name from the Agent's code file\n",
    "from agents.function_calling_agent.function_calling_agent_openai_sdk import FC_AGENT_DEFAULT_YAML_CONFIG_FILE_NAME\n",
    "\n",
    "# Dump the configuration to a YAML file\n",
    "obj_to_yaml_file(fc_agent_config, \"./configs/\"+FC_AGENT_DEFAULT_YAML_CONFIG_FILE_NAME)"
   ]
  },
  {
   "cell_type": "markdown",
   "metadata": {},
   "source": [
    "#### ✅✏️ Optionally, adjust the Agent's code\n",
    "\n",
    "Here, we import the Agent's code so we can run the Agent locally within the notebook.  To modify the code, open the Agent's code file in a separate window, enable reload, make your changes, and re-run this cell.\n",
    "\n",
    "**Typically, when building the first version of your agent, we suggest first trying to tune the configuration (prompts, etc) to improve quality.  If you need more control to fix quality issues, you can then modify the Agent's code.**"
   ]
  },
  {
   "cell_type": "code",
   "execution_count": null,
   "metadata": {},
   "outputs": [],
   "source": [
    "%load_ext autoreload\n",
    "%autoreload 2"
   ]
  },
  {
   "cell_type": "markdown",
   "metadata": {},
   "source": [
    "#### ✅✏️ 🅰 Vibe check the Agent for a single query\n",
    "\n",
    "Running this cell will produce an MLflow Trace that you can use to see the Agent's outputs and understand the steps it took to produce that output.\n",
    "\n",
    "If you are running in a local IDE, browse to the MLflow Experiment page to view the Trace (link to the Experiment UI is at the top of this notebook).  If running in a Databricks Notebook, your trace will appear inline below."
   ]
  },
  {
   "cell_type": "code",
   "execution_count": null,
   "metadata": {},
   "outputs": [],
   "source": [
    "from utils.cookbook.databricks_utils import get_mlflow_experiment_traces_url\n",
    "from agents.function_calling_agent.function_calling_agent_openai_sdk import FunctionCallingAgent\n",
    "\n",
    "# Load the Agent's code with the above configuration\n",
    "agent = FunctionCallingAgent(fc_agent_config)\n",
    "\n",
    "# Vibe check the Agent for a single query\n",
    "output = agent.predict(model_input={\"messages\": [{\"role\": \"user\", \"content\": \"How does the blender work?\"}]})\n",
    "\n",
    "print(f\"View the MLflow Traces at {get_mlflow_experiment_traces_url(experiment_info.experiment_id)}\")\n",
    "print(f\"Agent's final response:\\n----\\n{output['content']}\\n----\")\n",
    "print()\n",
    "print(f\"Agent's full message history (useful for debugging):\\n----\\n{json.dumps(output['messages'], indent=2)}\\n----\")\n"
   ]
  },
  {
   "cell_type": "markdown",
   "metadata": {},
   "source": [
    "Now, let's test a multi-turn conversation with the Agent."
   ]
  },
  {
   "cell_type": "code",
   "execution_count": null,
   "metadata": {},
   "outputs": [],
   "source": [
    "second_turn = {'messages': output['messages'] + [{\"role\": \"user\", \"content\": \"How do I turn it on?\"}]}\n",
    "\n",
    "# Run the Agent again with the same input to continue the conversation\n",
    "second_turn_output = agent.predict(model_input=second_turn)\n",
    "\n",
    "print(f\"View the MLflow Traces at {get_mlflow_experiment_traces_url(experiment_info.experiment_id)}\")\n",
    "print(f\"Agent's final response:\\n----\\n{second_turn_output['content']}\\n----\")\n",
    "print()\n",
    "print(f\"Agent's full message history (useful for debugging):\\n----\\n{json.dumps(second_turn_output['messages'], indent=2)}\\n----\")"
   ]
  },
  {
   "cell_type": "markdown",
   "metadata": {},
   "source": [
    "#### ✅✏️ 🅱 Evaluate the Agent using your evaluation set\n",
    "\n",
    "Note: If you do not have an evaluation set, you can create a synthetic evaluation set by using the 03_synthetic_evaluation notebook."
   ]
  },
  {
   "cell_type": "code",
   "execution_count": null,
   "metadata": {},
   "outputs": [],
   "source": [
    "evaluation_set = spark.table(agent_storage_config.evaluation_set_uc_table)\n",
    "\n",
    "with mlflow.start_run():\n",
    "    logged_agent_info = log_agent_to_mlflow(fc_agent_config)\n",
    "\n",
    "    # Run the agent for these queries, using Agent evaluation to parallelize the calls\n",
    "    eval_results = mlflow.evaluate(\n",
    "        model=logged_agent_info.model_uri,  # use the MLflow logged Agent\n",
    "        data=evaluation_set,  # Evaluate the Agent for every row of the evaluation set\n",
    "        model_type=\"databricks-agent\",  # use Agent Evaluation\n",
    "    )\n",
    "\n",
    "    # Show all outputs.  Click on a row in this table to display the MLflow Trace.\n",
    "    display(eval_results.tables[\"eval_results\"])\n",
    "\n",
    "    # Click 'View Evaluation Results' to see the Agent's inputs/outputs + quality evaluation displayed in a UI"
   ]
  },
  {
   "cell_type": "markdown",
   "metadata": {},
   "source": [
    "## 2️⃣ Deploy a version of your Agent - either to the Review App or Production\n",
    "\n",
    "Once you have a version of your Agent that has sufficient quality, you will register the Agent's model from the MLflow Experiment into the Unity Catalog & use Agent Framework's `agents.deploy(...)` command to deploy it.  Note these steps are the same for deploying to pre-production (e.g., the [Review App](https://docs.databricks.com/en/generative-ai/agent-evaluation/human-evaluation.html#review-app-ui) or production.\n",
    "\n",
    "By the end of this step, you will have deployed a version of your Agent that you can interact with and share with your business stakeholders for feedback, even if they don't have access to your Databricks workspace:\n",
    "\n",
    "1. A production-ready scalable REST API deployed as a Model Serving endpoint that logged every request/request/MLflow Trace to a Delta Table.\n",
    "    - REST API for querying the Agent\n",
    "    - REST API for sending user feedback from your UI to the Agent\n",
    "2. Agent Evaluation's [Review App](https://docs.databricks.com/en/generative-ai/agent-evaluation/human-evaluation.html#review-app-ui) connected to these endpoints.\n",
    "3. [Mosiac AI Playground](https://docs.databricks.com/en/large-language-models/ai-playground.html) connected to these endpoints."
   ]
  },
  {
   "cell_type": "markdown",
   "metadata": {},
   "source": [
    "Option 1: Deploy the last agent you logged above"
   ]
  },
  {
   "cell_type": "code",
   "execution_count": null,
   "metadata": {},
   "outputs": [],
   "source": [
    "from databricks import agents\n",
    "\n",
    "# Use Unity Catalog as the model registry\n",
    "mlflow.set_registry_uri(\"databricks-uc\")\n",
    "\n",
    "# Register the Agent's model to the Unity Catalog\n",
    "uc_registered_model_info = mlflow.register_model(\n",
    "    model_uri=logged_agent_info.model_uri, name=agent_storage_config.uc_model_name\n",
    ")\n",
    "\n",
    "# Deploy the model to the review app and a model serving endpoint\n",
    "agents.deploy(agent_storage_config.uc_model_name, uc_registered_model_info.version)"
   ]
  },
  {
   "cell_type": "markdown",
   "metadata": {},
   "source": [
    "Option 2: Log the latest copy of the Agent's code/config and deploy it"
   ]
  },
  {
   "cell_type": "code",
   "execution_count": 8,
   "metadata": {},
   "outputs": [
    {
     "data": {
      "application/vnd.jupyter.widget-view+json": {
       "model_id": "2ba2b0407e4f440a887696a1cd1b8e80",
       "version_major": 2,
       "version_minor": 0
      },
      "text/plain": [
       "Uploading artifacts:   0%|          | 0/43 [00:00<?, ?it/s]"
      ]
     },
     "metadata": {},
     "output_type": "display_data"
    },
    {
     "name": "stderr",
     "output_type": "stream",
     "text": [
      "WARNING:urllib3.connectionpool:Connection pool is full, discarding connection: e2-dogfood-core.s3.us-west-2.amazonaws.com. Connection pool size: 10\n",
      "WARNING:urllib3.connectionpool:Connection pool is full, discarding connection: e2-dogfood-core.s3.us-west-2.amazonaws.com. Connection pool size: 10\n",
      "WARNING:urllib3.connectionpool:Connection pool is full, discarding connection: e2-dogfood-core.s3.us-west-2.amazonaws.com. Connection pool size: 10\n",
      "WARNING:urllib3.connectionpool:Connection pool is full, discarding connection: e2-dogfood-core.s3.us-west-2.amazonaws.com. Connection pool size: 10\n",
      "WARNING:urllib3.connectionpool:Connection pool is full, discarding connection: e2-dogfood-core.s3.us-west-2.amazonaws.com. Connection pool size: 10\n",
      "WARNING:urllib3.connectionpool:Connection pool is full, discarding connection: e2-dogfood-core.s3.us-west-2.amazonaws.com. Connection pool size: 10\n",
      "WARNING:urllib3.connectionpool:Connection pool is full, discarding connection: e2-dogfood-core.s3.us-west-2.amazonaws.com. Connection pool size: 10\n",
      "WARNING:urllib3.connectionpool:Connection pool is full, discarding connection: e2-dogfood-core.s3.us-west-2.amazonaws.com. Connection pool size: 10\n",
      "WARNING:urllib3.connectionpool:Connection pool is full, discarding connection: e2-dogfood-core.s3.us-west-2.amazonaws.com. Connection pool size: 10\n",
      "WARNING:urllib3.connectionpool:Connection pool is full, discarding connection: e2-dogfood-core.s3.us-west-2.amazonaws.com. Connection pool size: 10\n"
     ]
    },
    {
     "data": {
      "application/vnd.jupyter.widget-view+json": {
       "model_id": "7bacccacb0b542e082e22a6c3a83db30",
       "version_major": 2,
       "version_minor": 0
      },
      "text/plain": [
       "Downloading artifacts:   0%|          | 0/43 [00:00<?, ?it/s]"
      ]
     },
     "metadata": {},
     "output_type": "display_data"
    },
    {
     "name": "stderr",
     "output_type": "stream",
     "text": [
      "Registered model 'ep.cookbook_local_test.my_agent' already exists. Creating a new version of this model...\n",
      "WARNING:urllib3.connectionpool:Connection pool is full, discarding connection: e2-dogfood-core.s3.us-west-2.amazonaws.com. Connection pool size: 10\n",
      "WARNING:urllib3.connectionpool:Connection pool is full, discarding connection: e2-dogfood-core.s3.us-west-2.amazonaws.com. Connection pool size: 10\n"
     ]
    },
    {
     "data": {
      "application/vnd.jupyter.widget-view+json": {
       "model_id": "5a7abec6ccb74a6b81ac81792e570b9c",
       "version_major": 2,
       "version_minor": 0
      },
      "text/plain": [
       "Downloading artifacts:   0%|          | 0/43 [00:00<?, ?it/s]"
      ]
     },
     "metadata": {},
     "output_type": "display_data"
    },
    {
     "data": {
      "application/vnd.jupyter.widget-view+json": {
       "model_id": "acaf79ee5d994961b9d05edcc763abaf",
       "version_major": 2,
       "version_minor": 0
      },
      "text/plain": [
       "Uploading artifacts:   0%|          | 0/43 [00:00<?, ?it/s]"
      ]
     },
     "metadata": {},
     "output_type": "display_data"
    },
    {
     "name": "stderr",
     "output_type": "stream",
     "text": [
      "WARNING:urllib3.connectionpool:Connection pool is full, discarding connection: us-west-2-extstaging-managed-catalog-test-bucket-1.s3.us-west-2.amazonaws.com. Connection pool size: 10\n",
      "WARNING:urllib3.connectionpool:Connection pool is full, discarding connection: us-west-2-extstaging-managed-catalog-test-bucket-1.s3.us-west-2.amazonaws.com. Connection pool size: 10\n",
      "WARNING:urllib3.connectionpool:Connection pool is full, discarding connection: us-west-2-extstaging-managed-catalog-test-bucket-1.s3.us-west-2.amazonaws.com. Connection pool size: 10\n",
      "WARNING:urllib3.connectionpool:Connection pool is full, discarding connection: us-west-2-extstaging-managed-catalog-test-bucket-1.s3.us-west-2.amazonaws.com. Connection pool size: 10\n",
      "WARNING:urllib3.connectionpool:Connection pool is full, discarding connection: us-west-2-extstaging-managed-catalog-test-bucket-1.s3.us-west-2.amazonaws.com. Connection pool size: 10\n",
      "WARNING:urllib3.connectionpool:Connection pool is full, discarding connection: us-west-2-extstaging-managed-catalog-test-bucket-1.s3.us-west-2.amazonaws.com. Connection pool size: 10\n",
      "WARNING:urllib3.connectionpool:Connection pool is full, discarding connection: us-west-2-extstaging-managed-catalog-test-bucket-1.s3.us-west-2.amazonaws.com. Connection pool size: 10\n",
      "WARNING:urllib3.connectionpool:Connection pool is full, discarding connection: us-west-2-extstaging-managed-catalog-test-bucket-1.s3.us-west-2.amazonaws.com. Connection pool size: 10\n",
      "WARNING:urllib3.connectionpool:Connection pool is full, discarding connection: us-west-2-extstaging-managed-catalog-test-bucket-1.s3.us-west-2.amazonaws.com. Connection pool size: 10\n",
      "WARNING:urllib3.connectionpool:Connection pool is full, discarding connection: us-west-2-extstaging-managed-catalog-test-bucket-1.s3.us-west-2.amazonaws.com. Connection pool size: 10\n",
      "Created version '2' of model 'ep.cookbook_local_test.my_agent'.\n",
      "2024/11/06 13:41:23 INFO mlflow.tracking._tracking_service.client: 🏃 View run angry-cub-872 at: https://e2-dogfood.staging.cloud.databricks.com/ml/experiments/3916415516852775/runs/113eadcfe9994f528515fad03140eec4.\n",
      "2024/11/06 13:41:23 INFO mlflow.tracking._tracking_service.client: 🧪 View experiment at: https://e2-dogfood.staging.cloud.databricks.com/ml/experiments/3916415516852775.\n",
      "WARNING:urllib3.connectionpool:Connection pool is full, discarding connection: us-west-2-extstaging-managed-catalog-test-bucket-1.s3.us-west-2.amazonaws.com. Connection pool size: 10\n",
      "WARNING:urllib3.connectionpool:Connection pool is full, discarding connection: us-west-2-extstaging-managed-catalog-test-bucket-1.s3.us-west-2.amazonaws.com. Connection pool size: 10\n",
      "WARNING:urllib3.connectionpool:Connection pool is full, discarding connection: us-west-2-extstaging-managed-catalog-test-bucket-1.s3.us-west-2.amazonaws.com. Connection pool size: 10\n",
      "WARNING:urllib3.connectionpool:Connection pool is full, discarding connection: us-west-2-extstaging-managed-catalog-test-bucket-1.s3.us-west-2.amazonaws.com. Connection pool size: 10\n",
      "WARNING:urllib3.connectionpool:Connection pool is full, discarding connection: us-west-2-extstaging-managed-catalog-test-bucket-1.s3.us-west-2.amazonaws.com. Connection pool size: 10\n",
      "WARNING:urllib3.connectionpool:Connection pool is full, discarding connection: us-west-2-extstaging-managed-catalog-test-bucket-1.s3.us-west-2.amazonaws.com. Connection pool size: 10\n",
      "WARNING:urllib3.connectionpool:Connection pool is full, discarding connection: us-west-2-extstaging-managed-catalog-test-bucket-1.s3.us-west-2.amazonaws.com. Connection pool size: 10\n",
      "WARNING:urllib3.connectionpool:Connection pool is full, discarding connection: us-west-2-extstaging-managed-catalog-test-bucket-1.s3.us-west-2.amazonaws.com. Connection pool size: 10\n",
      "WARNING:urllib3.connectionpool:Connection pool is full, discarding connection: us-west-2-extstaging-managed-catalog-test-bucket-1.s3.us-west-2.amazonaws.com. Connection pool size: 10\n"
     ]
    },
    {
     "data": {
      "application/vnd.jupyter.widget-view+json": {
       "model_id": "fb6462d500aa46bfb47076ae1e2108bc",
       "version_major": 2,
       "version_minor": 0
      },
      "text/plain": [
       "Downloading artifacts:   0%|          | 0/43 [00:00<?, ?it/s]"
      ]
     },
     "metadata": {},
     "output_type": "display_data"
    },
    {
     "name": "stderr",
     "output_type": "stream",
     "text": [
      "WARNING:urllib3.connectionpool:Connection pool is full, discarding connection: us-west-2-extstaging-managed-catalog-test-bucket-1.s3.us-west-2.amazonaws.com. Connection pool size: 10\n",
      "WARNING:urllib3.connectionpool:Connection pool is full, discarding connection: us-west-2-extstaging-managed-catalog-test-bucket-1.s3.us-west-2.amazonaws.com. Connection pool size: 10\n",
      "WARNING:urllib3.connectionpool:Connection pool is full, discarding connection: us-west-2-extstaging-managed-catalog-test-bucket-1.s3.us-west-2.amazonaws.com. Connection pool size: 10\n",
      "WARNING:urllib3.connectionpool:Connection pool is full, discarding connection: us-west-2-extstaging-managed-catalog-test-bucket-1.s3.us-west-2.amazonaws.com. Connection pool size: 10\n"
     ]
    },
    {
     "ename": "BadRequest",
     "evalue": "Could not parse request object: Expected both 'key' and 'value' to be set on elements in the field 'environment_vars'\n at [Source: (ByteArrayInputStream); line: 1, column: 396]\n at [Source: java.io.ByteArrayInputStream@9a6a427; line: 1, column: 396]",
     "output_type": "error",
     "traceback": [
      "\u001b[0;31m---------------------------------------------------------------------------\u001b[0m",
      "\u001b[0;31mBadRequest\u001b[0m                                Traceback (most recent call last)",
      "Cell \u001b[0;32mIn[8], line 15\u001b[0m\n\u001b[1;32m     10\u001b[0m     uc_registered_model_info \u001b[38;5;241m=\u001b[39m mlflow\u001b[38;5;241m.\u001b[39mregister_model(\n\u001b[1;32m     11\u001b[0m         model_uri\u001b[38;5;241m=\u001b[39mlogged_agent_info\u001b[38;5;241m.\u001b[39mmodel_uri, name\u001b[38;5;241m=\u001b[39magent_storage_config\u001b[38;5;241m.\u001b[39muc_model_name\n\u001b[1;32m     12\u001b[0m     )\n\u001b[1;32m     14\u001b[0m \u001b[38;5;66;03m# Deploy the model to the review app and a model serving endpoint\u001b[39;00m\n\u001b[0;32m---> 15\u001b[0m \u001b[43magents\u001b[49m\u001b[38;5;241;43m.\u001b[39;49m\u001b[43mdeploy\u001b[49m\u001b[43m(\u001b[49m\u001b[43magent_storage_config\u001b[49m\u001b[38;5;241;43m.\u001b[39;49m\u001b[43muc_model_name\u001b[49m\u001b[43m,\u001b[49m\u001b[43m \u001b[49m\u001b[43muc_registered_model_info\u001b[49m\u001b[38;5;241;43m.\u001b[39;49m\u001b[43mversion\u001b[49m\u001b[43m)\u001b[49m\n",
      "File \u001b[0;32m~/Library/Caches/pypoetry/virtualenvs/genai-cookbook-T2SdtsNM-py3.11/lib/python3.11/site-packages/databricks/agents/deployments.py:530\u001b[0m, in \u001b[0;36mdeploy\u001b[0;34m(model_name, model_version, scale_to_zero, environment_vars, instance_profile_arn, tags, workload_size, **kwargs)\u001b[0m\n\u001b[1;32m    526\u001b[0m             \u001b[38;5;28;01mraise\u001b[39;00m \u001b[38;5;167;01mValueError\u001b[39;00m(\n\u001b[1;32m    527\u001b[0m                 \u001b[38;5;124mf\u001b[39m\u001b[38;5;124m\"\u001b[39m\u001b[38;5;124mEndpoint \u001b[39m\u001b[38;5;132;01m{\u001b[39;00mendpoint_name\u001b[38;5;132;01m}\u001b[39;00m\u001b[38;5;124m already serves model \u001b[39m\u001b[38;5;132;01m{\u001b[39;00mmodel_name\u001b[38;5;132;01m}\u001b[39;00m\u001b[38;5;124m, version \u001b[39m\u001b[38;5;132;01m{\u001b[39;00mmodel_version\u001b[38;5;132;01m}\u001b[39;00m\u001b[38;5;124m.\u001b[39m\u001b[38;5;124m\"\u001b[39m\n\u001b[1;32m    528\u001b[0m             )\n\u001b[1;32m    529\u001b[0m         \u001b[38;5;28;01melse\u001b[39;00m:\n\u001b[0;32m--> 530\u001b[0m             \u001b[38;5;28;01mraise\u001b[39;00m e\n\u001b[1;32m    532\u001b[0m workspace_url \u001b[38;5;241m=\u001b[39m _get_workspace_url()\n\u001b[1;32m    533\u001b[0m deployment_info \u001b[38;5;241m=\u001b[39m rest_deploy_chain(\n\u001b[1;32m    534\u001b[0m     model_name\u001b[38;5;241m=\u001b[39mmodel_name,\n\u001b[1;32m    535\u001b[0m     model_version\u001b[38;5;241m=\u001b[39mmodel_version,\n\u001b[0;32m   (...)\u001b[0m\n\u001b[1;32m    541\u001b[0m     workspace_url\u001b[38;5;241m=\u001b[39mworkspace_url,\n\u001b[1;32m    542\u001b[0m )\n",
      "File \u001b[0;32m~/Library/Caches/pypoetry/virtualenvs/genai-cookbook-T2SdtsNM-py3.11/lib/python3.11/site-packages/databricks/agents/deployments.py:508\u001b[0m, in \u001b[0;36mdeploy\u001b[0;34m(model_name, model_version, scale_to_zero, environment_vars, instance_profile_arn, tags, workload_size, **kwargs)\u001b[0m\n\u001b[1;32m    498\u001b[0m updated_served_models \u001b[38;5;241m=\u001b[39m _update_served_models(\n\u001b[1;32m    499\u001b[0m     model_name,\n\u001b[1;32m    500\u001b[0m     model_version,\n\u001b[0;32m   (...)\u001b[0m\n\u001b[1;32m    505\u001b[0m     instance_profile_arn,\n\u001b[1;32m    506\u001b[0m )\n\u001b[1;32m    507\u001b[0m \u001b[38;5;28;01mtry\u001b[39;00m:\n\u001b[0;32m--> 508\u001b[0m     \u001b[43mw\u001b[49m\u001b[38;5;241;43m.\u001b[39;49m\u001b[43mserving_endpoints\u001b[49m\u001b[38;5;241;43m.\u001b[39;49m\u001b[43mupdate_config\u001b[49m\u001b[43m(\u001b[49m\n\u001b[1;32m    509\u001b[0m \u001b[43m        \u001b[49m\u001b[43mname\u001b[49m\u001b[38;5;241;43m=\u001b[39;49m\u001b[43mendpoint_name\u001b[49m\u001b[43m,\u001b[49m\n\u001b[1;32m    510\u001b[0m \u001b[43m        \u001b[49m\u001b[43mserved_models\u001b[49m\u001b[38;5;241;43m=\u001b[39;49m\u001b[43mupdated_served_models\u001b[49m\u001b[43m,\u001b[49m\n\u001b[1;32m    511\u001b[0m \u001b[43m        \u001b[49m\u001b[43mtraffic_config\u001b[49m\u001b[38;5;241;43m=\u001b[39;49m\u001b[43mupdated_traffic_config\u001b[49m\u001b[43m,\u001b[49m\n\u001b[1;32m    512\u001b[0m \u001b[43m        \u001b[49m\u001b[43mauto_capture_config\u001b[49m\u001b[38;5;241;43m=\u001b[39;49m\u001b[43mconfig\u001b[49m\u001b[38;5;241;43m.\u001b[39;49m\u001b[43mauto_capture_config\u001b[49m\u001b[43m,\u001b[49m\n\u001b[1;32m    513\u001b[0m \u001b[43m    \u001b[49m\u001b[43m)\u001b[49m\n\u001b[1;32m    514\u001b[0m \u001b[38;5;28;01mexcept\u001b[39;00m ResourceConflict:\n\u001b[1;32m    515\u001b[0m     \u001b[38;5;28;01mraise\u001b[39;00m \u001b[38;5;167;01mValueError\u001b[39;00m(\u001b[38;5;124mf\u001b[39m\u001b[38;5;124m\"\u001b[39m\u001b[38;5;124mEndpoint \u001b[39m\u001b[38;5;132;01m{\u001b[39;00mendpoint_name\u001b[38;5;132;01m}\u001b[39;00m\u001b[38;5;124m is currently updating.\u001b[39m\u001b[38;5;124m\"\u001b[39m)\n",
      "File \u001b[0;32m~/Library/Caches/pypoetry/virtualenvs/genai-cookbook-T2SdtsNM-py3.11/lib/python3.11/site-packages/databricks/sdk/service/serving.py:3054\u001b[0m, in \u001b[0;36mServingEndpointsAPI.update_config\u001b[0;34m(self, name, auto_capture_config, served_entities, served_models, traffic_config)\u001b[0m\n\u001b[1;32m   3051\u001b[0m \u001b[38;5;28;01mif\u001b[39;00m traffic_config \u001b[38;5;129;01mis\u001b[39;00m \u001b[38;5;129;01mnot\u001b[39;00m \u001b[38;5;28;01mNone\u001b[39;00m: body[\u001b[38;5;124m'\u001b[39m\u001b[38;5;124mtraffic_config\u001b[39m\u001b[38;5;124m'\u001b[39m] \u001b[38;5;241m=\u001b[39m traffic_config\u001b[38;5;241m.\u001b[39mas_dict()\n\u001b[1;32m   3052\u001b[0m headers \u001b[38;5;241m=\u001b[39m {\u001b[38;5;124m'\u001b[39m\u001b[38;5;124mAccept\u001b[39m\u001b[38;5;124m'\u001b[39m: \u001b[38;5;124m'\u001b[39m\u001b[38;5;124mapplication/json\u001b[39m\u001b[38;5;124m'\u001b[39m, \u001b[38;5;124m'\u001b[39m\u001b[38;5;124mContent-Type\u001b[39m\u001b[38;5;124m'\u001b[39m: \u001b[38;5;124m'\u001b[39m\u001b[38;5;124mapplication/json\u001b[39m\u001b[38;5;124m'\u001b[39m, }\n\u001b[0;32m-> 3054\u001b[0m op_response \u001b[38;5;241m=\u001b[39m \u001b[38;5;28;43mself\u001b[39;49m\u001b[38;5;241;43m.\u001b[39;49m\u001b[43m_api\u001b[49m\u001b[38;5;241;43m.\u001b[39;49m\u001b[43mdo\u001b[49m\u001b[43m(\u001b[49m\u001b[38;5;124;43m'\u001b[39;49m\u001b[38;5;124;43mPUT\u001b[39;49m\u001b[38;5;124;43m'\u001b[39;49m\u001b[43m,\u001b[49m\n\u001b[1;32m   3055\u001b[0m \u001b[43m                           \u001b[49m\u001b[38;5;124;43mf\u001b[39;49m\u001b[38;5;124;43m'\u001b[39;49m\u001b[38;5;124;43m/api/2.0/serving-endpoints/\u001b[39;49m\u001b[38;5;132;43;01m{\u001b[39;49;00m\u001b[43mname\u001b[49m\u001b[38;5;132;43;01m}\u001b[39;49;00m\u001b[38;5;124;43m/config\u001b[39;49m\u001b[38;5;124;43m'\u001b[39;49m\u001b[43m,\u001b[49m\n\u001b[1;32m   3056\u001b[0m \u001b[43m                           \u001b[49m\u001b[43mbody\u001b[49m\u001b[38;5;241;43m=\u001b[39;49m\u001b[43mbody\u001b[49m\u001b[43m,\u001b[49m\n\u001b[1;32m   3057\u001b[0m \u001b[43m                           \u001b[49m\u001b[43mheaders\u001b[49m\u001b[38;5;241;43m=\u001b[39;49m\u001b[43mheaders\u001b[49m\u001b[43m)\u001b[49m\n\u001b[1;32m   3058\u001b[0m \u001b[38;5;28;01mreturn\u001b[39;00m Wait(\u001b[38;5;28mself\u001b[39m\u001b[38;5;241m.\u001b[39mwait_get_serving_endpoint_not_updating,\n\u001b[1;32m   3059\u001b[0m             response\u001b[38;5;241m=\u001b[39mServingEndpointDetailed\u001b[38;5;241m.\u001b[39mfrom_dict(op_response),\n\u001b[1;32m   3060\u001b[0m             name\u001b[38;5;241m=\u001b[39mop_response[\u001b[38;5;124m'\u001b[39m\u001b[38;5;124mname\u001b[39m\u001b[38;5;124m'\u001b[39m])\n",
      "File \u001b[0;32m~/Library/Caches/pypoetry/virtualenvs/genai-cookbook-T2SdtsNM-py3.11/lib/python3.11/site-packages/databricks/sdk/core.py:77\u001b[0m, in \u001b[0;36mApiClient.do\u001b[0;34m(self, method, path, url, query, headers, body, raw, files, data, auth, response_headers)\u001b[0m\n\u001b[1;32m     75\u001b[0m     path \u001b[38;5;241m=\u001b[39m re\u001b[38;5;241m.\u001b[39msub(\u001b[38;5;124m'\u001b[39m\u001b[38;5;124m^/api/2.0/fs/files//\u001b[39m\u001b[38;5;124m'\u001b[39m, \u001b[38;5;124m'\u001b[39m\u001b[38;5;124m/api/2.0/fs/files/\u001b[39m\u001b[38;5;124m'\u001b[39m, path)\n\u001b[1;32m     76\u001b[0m     url \u001b[38;5;241m=\u001b[39m \u001b[38;5;124mf\u001b[39m\u001b[38;5;124m\"\u001b[39m\u001b[38;5;132;01m{\u001b[39;00m\u001b[38;5;28mself\u001b[39m\u001b[38;5;241m.\u001b[39m_cfg\u001b[38;5;241m.\u001b[39mhost\u001b[38;5;132;01m}\u001b[39;00m\u001b[38;5;132;01m{\u001b[39;00mpath\u001b[38;5;132;01m}\u001b[39;00m\u001b[38;5;124m\"\u001b[39m\n\u001b[0;32m---> 77\u001b[0m \u001b[38;5;28;01mreturn\u001b[39;00m \u001b[38;5;28;43mself\u001b[39;49m\u001b[38;5;241;43m.\u001b[39;49m\u001b[43m_api_client\u001b[49m\u001b[38;5;241;43m.\u001b[39;49m\u001b[43mdo\u001b[49m\u001b[43m(\u001b[49m\u001b[43mmethod\u001b[49m\u001b[38;5;241;43m=\u001b[39;49m\u001b[43mmethod\u001b[49m\u001b[43m,\u001b[49m\n\u001b[1;32m     78\u001b[0m \u001b[43m                           \u001b[49m\u001b[43murl\u001b[49m\u001b[38;5;241;43m=\u001b[39;49m\u001b[43murl\u001b[49m\u001b[43m,\u001b[49m\n\u001b[1;32m     79\u001b[0m \u001b[43m                           \u001b[49m\u001b[43mquery\u001b[49m\u001b[38;5;241;43m=\u001b[39;49m\u001b[43mquery\u001b[49m\u001b[43m,\u001b[49m\n\u001b[1;32m     80\u001b[0m \u001b[43m                           \u001b[49m\u001b[43mheaders\u001b[49m\u001b[38;5;241;43m=\u001b[39;49m\u001b[43mheaders\u001b[49m\u001b[43m,\u001b[49m\n\u001b[1;32m     81\u001b[0m \u001b[43m                           \u001b[49m\u001b[43mbody\u001b[49m\u001b[38;5;241;43m=\u001b[39;49m\u001b[43mbody\u001b[49m\u001b[43m,\u001b[49m\n\u001b[1;32m     82\u001b[0m \u001b[43m                           \u001b[49m\u001b[43mraw\u001b[49m\u001b[38;5;241;43m=\u001b[39;49m\u001b[43mraw\u001b[49m\u001b[43m,\u001b[49m\n\u001b[1;32m     83\u001b[0m \u001b[43m                           \u001b[49m\u001b[43mfiles\u001b[49m\u001b[38;5;241;43m=\u001b[39;49m\u001b[43mfiles\u001b[49m\u001b[43m,\u001b[49m\n\u001b[1;32m     84\u001b[0m \u001b[43m                           \u001b[49m\u001b[43mdata\u001b[49m\u001b[38;5;241;43m=\u001b[39;49m\u001b[43mdata\u001b[49m\u001b[43m,\u001b[49m\n\u001b[1;32m     85\u001b[0m \u001b[43m                           \u001b[49m\u001b[43mauth\u001b[49m\u001b[38;5;241;43m=\u001b[39;49m\u001b[43mauth\u001b[49m\u001b[43m,\u001b[49m\n\u001b[1;32m     86\u001b[0m \u001b[43m                           \u001b[49m\u001b[43mresponse_headers\u001b[49m\u001b[38;5;241;43m=\u001b[39;49m\u001b[43mresponse_headers\u001b[49m\u001b[43m)\u001b[49m\n",
      "File \u001b[0;32m~/Library/Caches/pypoetry/virtualenvs/genai-cookbook-T2SdtsNM-py3.11/lib/python3.11/site-packages/databricks/sdk/_base_client.py:147\u001b[0m, in \u001b[0;36m_BaseClient.do\u001b[0;34m(self, method, url, query, headers, body, raw, files, data, auth, response_headers)\u001b[0m\n\u001b[1;32m    143\u001b[0m headers[\u001b[38;5;124m'\u001b[39m\u001b[38;5;124mUser-Agent\u001b[39m\u001b[38;5;124m'\u001b[39m] \u001b[38;5;241m=\u001b[39m \u001b[38;5;28mself\u001b[39m\u001b[38;5;241m.\u001b[39m_user_agent_base\n\u001b[1;32m    144\u001b[0m retryable \u001b[38;5;241m=\u001b[39m retried(timeout\u001b[38;5;241m=\u001b[39mtimedelta(seconds\u001b[38;5;241m=\u001b[39m\u001b[38;5;28mself\u001b[39m\u001b[38;5;241m.\u001b[39m_retry_timeout_seconds),\n\u001b[1;32m    145\u001b[0m                     is_retryable\u001b[38;5;241m=\u001b[39m\u001b[38;5;28mself\u001b[39m\u001b[38;5;241m.\u001b[39m_is_retryable,\n\u001b[1;32m    146\u001b[0m                     clock\u001b[38;5;241m=\u001b[39m\u001b[38;5;28mself\u001b[39m\u001b[38;5;241m.\u001b[39m_clock)\n\u001b[0;32m--> 147\u001b[0m response \u001b[38;5;241m=\u001b[39m \u001b[43mretryable\u001b[49m\u001b[43m(\u001b[49m\u001b[38;5;28;43mself\u001b[39;49m\u001b[38;5;241;43m.\u001b[39;49m\u001b[43m_perform\u001b[49m\u001b[43m)\u001b[49m\u001b[43m(\u001b[49m\u001b[43mmethod\u001b[49m\u001b[43m,\u001b[49m\n\u001b[1;32m    148\u001b[0m \u001b[43m                                    \u001b[49m\u001b[43murl\u001b[49m\u001b[43m,\u001b[49m\n\u001b[1;32m    149\u001b[0m \u001b[43m                                    \u001b[49m\u001b[43mquery\u001b[49m\u001b[38;5;241;43m=\u001b[39;49m\u001b[43mquery\u001b[49m\u001b[43m,\u001b[49m\n\u001b[1;32m    150\u001b[0m \u001b[43m                                    \u001b[49m\u001b[43mheaders\u001b[49m\u001b[38;5;241;43m=\u001b[39;49m\u001b[43mheaders\u001b[49m\u001b[43m,\u001b[49m\n\u001b[1;32m    151\u001b[0m \u001b[43m                                    \u001b[49m\u001b[43mbody\u001b[49m\u001b[38;5;241;43m=\u001b[39;49m\u001b[43mbody\u001b[49m\u001b[43m,\u001b[49m\n\u001b[1;32m    152\u001b[0m \u001b[43m                                    \u001b[49m\u001b[43mraw\u001b[49m\u001b[38;5;241;43m=\u001b[39;49m\u001b[43mraw\u001b[49m\u001b[43m,\u001b[49m\n\u001b[1;32m    153\u001b[0m \u001b[43m                                    \u001b[49m\u001b[43mfiles\u001b[49m\u001b[38;5;241;43m=\u001b[39;49m\u001b[43mfiles\u001b[49m\u001b[43m,\u001b[49m\n\u001b[1;32m    154\u001b[0m \u001b[43m                                    \u001b[49m\u001b[43mdata\u001b[49m\u001b[38;5;241;43m=\u001b[39;49m\u001b[43mdata\u001b[49m\u001b[43m,\u001b[49m\n\u001b[1;32m    155\u001b[0m \u001b[43m                                    \u001b[49m\u001b[43mauth\u001b[49m\u001b[38;5;241;43m=\u001b[39;49m\u001b[43mauth\u001b[49m\u001b[43m)\u001b[49m\n\u001b[1;32m    157\u001b[0m resp \u001b[38;5;241m=\u001b[39m \u001b[38;5;28mdict\u001b[39m()\n\u001b[1;32m    158\u001b[0m \u001b[38;5;28;01mfor\u001b[39;00m header \u001b[38;5;129;01min\u001b[39;00m response_headers \u001b[38;5;28;01mif\u001b[39;00m response_headers \u001b[38;5;28;01melse\u001b[39;00m []:\n",
      "File \u001b[0;32m~/Library/Caches/pypoetry/virtualenvs/genai-cookbook-T2SdtsNM-py3.11/lib/python3.11/site-packages/databricks/sdk/retries.py:54\u001b[0m, in \u001b[0;36mretried.<locals>.decorator.<locals>.wrapper\u001b[0;34m(*args, **kwargs)\u001b[0m\n\u001b[1;32m     50\u001b[0m         retry_reason \u001b[38;5;241m=\u001b[39m \u001b[38;5;124mf\u001b[39m\u001b[38;5;124m'\u001b[39m\u001b[38;5;132;01m{\u001b[39;00m\u001b[38;5;28mtype\u001b[39m(err)\u001b[38;5;241m.\u001b[39m\u001b[38;5;18m__name__\u001b[39m\u001b[38;5;132;01m}\u001b[39;00m\u001b[38;5;124m is allowed to retry\u001b[39m\u001b[38;5;124m'\u001b[39m\n\u001b[1;32m     52\u001b[0m \u001b[38;5;28;01mif\u001b[39;00m retry_reason \u001b[38;5;129;01mis\u001b[39;00m \u001b[38;5;28;01mNone\u001b[39;00m:\n\u001b[1;32m     53\u001b[0m     \u001b[38;5;66;03m# raise if exception is not retryable\u001b[39;00m\n\u001b[0;32m---> 54\u001b[0m     \u001b[38;5;28;01mraise\u001b[39;00m err\n\u001b[1;32m     56\u001b[0m logger\u001b[38;5;241m.\u001b[39mdebug(\u001b[38;5;124mf\u001b[39m\u001b[38;5;124m'\u001b[39m\u001b[38;5;124mRetrying: \u001b[39m\u001b[38;5;132;01m{\u001b[39;00mretry_reason\u001b[38;5;132;01m}\u001b[39;00m\u001b[38;5;124m (sleeping ~\u001b[39m\u001b[38;5;132;01m{\u001b[39;00msleep\u001b[38;5;132;01m}\u001b[39;00m\u001b[38;5;124ms)\u001b[39m\u001b[38;5;124m'\u001b[39m)\n\u001b[1;32m     57\u001b[0m clock\u001b[38;5;241m.\u001b[39msleep(sleep \u001b[38;5;241m+\u001b[39m random())\n",
      "File \u001b[0;32m~/Library/Caches/pypoetry/virtualenvs/genai-cookbook-T2SdtsNM-py3.11/lib/python3.11/site-packages/databricks/sdk/retries.py:33\u001b[0m, in \u001b[0;36mretried.<locals>.decorator.<locals>.wrapper\u001b[0;34m(*args, **kwargs)\u001b[0m\n\u001b[1;32m     31\u001b[0m \u001b[38;5;28;01mwhile\u001b[39;00m clock\u001b[38;5;241m.\u001b[39mtime() \u001b[38;5;241m<\u001b[39m deadline:\n\u001b[1;32m     32\u001b[0m     \u001b[38;5;28;01mtry\u001b[39;00m:\n\u001b[0;32m---> 33\u001b[0m         \u001b[38;5;28;01mreturn\u001b[39;00m \u001b[43mfunc\u001b[49m\u001b[43m(\u001b[49m\u001b[38;5;241;43m*\u001b[39;49m\u001b[43margs\u001b[49m\u001b[43m,\u001b[49m\u001b[43m \u001b[49m\u001b[38;5;241;43m*\u001b[39;49m\u001b[38;5;241;43m*\u001b[39;49m\u001b[43mkwargs\u001b[49m\u001b[43m)\u001b[49m\n\u001b[1;32m     34\u001b[0m     \u001b[38;5;28;01mexcept\u001b[39;00m \u001b[38;5;167;01mException\u001b[39;00m \u001b[38;5;28;01mas\u001b[39;00m err:\n\u001b[1;32m     35\u001b[0m         last_err \u001b[38;5;241m=\u001b[39m err\n",
      "File \u001b[0;32m~/Library/Caches/pypoetry/virtualenvs/genai-cookbook-T2SdtsNM-py3.11/lib/python3.11/site-packages/databricks/sdk/_base_client.py:237\u001b[0m, in \u001b[0;36m_BaseClient._perform\u001b[0;34m(self, method, url, query, headers, body, raw, files, data, auth)\u001b[0m\n\u001b[1;32m    235\u001b[0m error \u001b[38;5;241m=\u001b[39m \u001b[38;5;28mself\u001b[39m\u001b[38;5;241m.\u001b[39m_error_parser\u001b[38;5;241m.\u001b[39mget_api_error(response)\n\u001b[1;32m    236\u001b[0m \u001b[38;5;28;01mif\u001b[39;00m error \u001b[38;5;129;01mis\u001b[39;00m \u001b[38;5;129;01mnot\u001b[39;00m \u001b[38;5;28;01mNone\u001b[39;00m:\n\u001b[0;32m--> 237\u001b[0m     \u001b[38;5;28;01mraise\u001b[39;00m error \u001b[38;5;28;01mfrom\u001b[39;00m \u001b[38;5;28;01mNone\u001b[39;00m\n\u001b[1;32m    238\u001b[0m \u001b[38;5;28;01mreturn\u001b[39;00m response\n",
      "\u001b[0;31mBadRequest\u001b[0m: Could not parse request object: Expected both 'key' and 'value' to be set on elements in the field 'environment_vars'\n at [Source: (ByteArrayInputStream); line: 1, column: 396]\n at [Source: java.io.ByteArrayInputStream@9a6a427; line: 1, column: 396]"
     ]
    }
   ],
   "source": [
    "from databricks import agents\n",
    "\n",
    "# Use Unity Catalog as the model registry\n",
    "mlflow.set_registry_uri(\"databricks-uc\")\n",
    "\n",
    "with mlflow.start_run():\n",
    "    logged_agent_info = log_agent_to_mlflow(fc_agent_config)\n",
    "\n",
    "    # Register the Agent's model to the Unity Catalog\n",
    "    uc_registered_model_info = mlflow.register_model(\n",
    "        model_uri=logged_agent_info.model_uri, name=agent_storage_config.uc_model_name\n",
    "    )\n",
    "\n",
    "# Deploy the model to the review app and a model serving endpoint\n",
    "agents.deploy(agent_storage_config.uc_model_name, uc_registered_model_info.version)"
   ]
  }
 ],
 "metadata": {
  "application/vnd.databricks.v1+notebook": {
   "dashboards": [],
   "environmentMetadata": null,
   "language": "python",
   "notebookMetadata": {},
   "notebookName": "02_agent__function_calling_mlflow_sdk",
   "widgets": {}
  },
  "kernelspec": {
   "display_name": "genai-cookbook-T2SdtsNM-py3.11",
   "language": "python",
   "name": "python3"
  },
  "language_info": {
   "codemirror_mode": {
    "name": "ipython",
    "version": 3
   },
   "file_extension": ".py",
   "mimetype": "text/x-python",
   "name": "python",
   "nbconvert_exporter": "python",
   "pygments_lexer": "ipython3",
   "version": "3.11.10"
  }
 },
 "nbformat": 4,
 "nbformat_minor": 0
}
